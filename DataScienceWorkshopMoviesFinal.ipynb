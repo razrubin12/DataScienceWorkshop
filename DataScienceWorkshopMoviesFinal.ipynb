{
 "cells": [
  {
   "cell_type": "markdown",
   "metadata": {
    "colab_type": "text",
    "id": "ZVYcs-SWjpJj"
   },
   "source": [
    "# Forecasting Movies Revenue Using Machine Learning"
   ]
  },
  {
   "cell_type": "markdown",
   "metadata": {
    "colab_type": "text",
    "id": "NNrlLQJdjpJl"
   },
   "source": [
    "## 1 Import Python Libraries"
   ]
  },
  {
   "cell_type": "code",
   "execution_count": 1,
   "metadata": {
    "colab": {},
    "colab_type": "code",
    "id": "WRNPGDDjjpJl"
   },
   "outputs": [],
   "source": [
    "%matplotlib inline\n",
    "from imports import *"
   ]
  },
  {
   "cell_type": "code",
   "execution_count": 2,
   "metadata": {
    "colab": {},
    "colab_type": "code",
    "id": "IvYTBWqkSo19"
   },
   "outputs": [],
   "source": [
    "!pip install -U -q easymoney\n",
    "!pip install -U -q PyDrive\n",
    "!pip install -U -q DateTime\n",
    "!pip install -U -q catboost\n",
    "!pip install -U -q xgboost==0.80\n",
    "!pip install -U -q lightgbm"
   ]
  },
  {
   "cell_type": "code",
   "execution_count": 3,
   "metadata": {
    "colab": {},
    "colab_type": "code",
    "id": "NL3kUeLmhlLN"
   },
   "outputs": [],
   "source": [
    "from easymoney.money import EasyPeasy\n",
    "import datetime\n",
    "from catboost import CatBoostRegressor\n",
    "import xgboost\n",
    "import lightgbm"
   ]
  },
  {
   "cell_type": "markdown",
   "metadata": {
    "colab_type": "text",
    "id": "yo_bL60_gzdw"
   },
   "source": [
    "## 2 Data Collection & Integration"
   ]
  },
  {
   "cell_type": "markdown",
   "metadata": {},
   "source": [
    "### 2.1 Data Combine from Git"
   ]
  },
  {
   "cell_type": "markdown",
   "metadata": {},
   "source": [
    "We combine the credits.csv and ratings.csv, as they are too large to be stored in GitHub as a single file."
   ]
  },
  {
   "cell_type": "code",
   "execution_count": 4,
   "metadata": {},
   "outputs": [],
   "source": [
    "data_combine_from_git.combine('credits',4)\n",
    "data_combine_from_git.combine('ratings',15)"
   ]
  },
  {
   "cell_type": "markdown",
   "metadata": {
    "colab_type": "text",
    "id": "tZUeYsxSjpJp"
   },
   "source": [
    "### 2.2 Data Import"
   ]
  },
  {
   "cell_type": "markdown",
   "metadata": {},
   "source": [
    "Load the databases from the csv files."
   ]
  },
  {
   "cell_type": "code",
   "execution_count": 5,
   "metadata": {
    "colab": {
     "base_uri": "https://localhost:8080/",
     "height": 72
    },
    "colab_type": "code",
    "id": "USgqVWeUjpJp",
    "outputId": "8181700e-4b5c-49a1-8331-7850afdc999c"
   },
   "outputs": [],
   "source": [
    "df_ratings = pd.read_csv('ratings.csv')\n",
    "df_ratings.name = 'Ratings'\n",
    "\n",
    "df_movies_metadata = pd.read_csv('movies_metadata.csv')\n",
    "df_movies_metadata = df_movies_metadata[df_movies_metadata.budget.apply(lambda x: x.isnumeric())]\n",
    "df_movies_metadata[[\"budget\", \"revenue\"]] = df_movies_metadata[[\"budget\", \"revenue\"]].apply(pd.to_numeric)\n",
    "df_movies_metadata.name = 'Movies Metadata'\n",
    "\n",
    "df_credits = pd.read_csv('credits.csv')\n",
    "df_credits.name = 'Credits'\n",
    "\n",
    "df_ages=pd.read_csv('age_scrape.csv')\n",
    "df_ages.name='Ages'"
   ]
  },
  {
   "cell_type": "markdown",
   "metadata": {
    "colab_type": "text",
    "id": "rdKoTn-yitG7"
   },
   "source": [
    "### 2.3 Scraped Data Integration"
   ]
  },
  {
   "cell_type": "markdown",
   "metadata": {},
   "source": [
    "Load the combined_new_db.csv which we scraped from IMDb."
   ]
  },
  {
   "cell_type": "code",
   "execution_count": 6,
   "metadata": {
    "colab": {
     "base_uri": "https://localhost:8080/",
     "height": 667
    },
    "colab_type": "code",
    "id": "kq9T2CsFO5UJ",
    "outputId": "9bc471ac-039f-4410-970c-81a2783b1825"
   },
   "outputs": [
    {
     "name": "stdout",
     "output_type": "stream",
     "text": [
      "Additional data scraped, example rows:\n"
     ]
    },
    {
     "data": {
      "text/html": [
       "<div>\n",
       "<style scoped>\n",
       "    .dataframe tbody tr th:only-of-type {\n",
       "        vertical-align: middle;\n",
       "    }\n",
       "\n",
       "    .dataframe tbody tr th {\n",
       "        vertical-align: top;\n",
       "    }\n",
       "\n",
       "    .dataframe thead th {\n",
       "        text-align: right;\n",
       "    }\n",
       "</style>\n",
       "<table border=\"1\" class=\"dataframe\">\n",
       "  <thead>\n",
       "    <tr style=\"text-align: right;\">\n",
       "      <th></th>\n",
       "      <th>imdb_id</th>\n",
       "      <th>vote_average</th>\n",
       "      <th>age</th>\n",
       "      <th>original_title</th>\n",
       "      <th>release_year</th>\n",
       "      <th>original_language</th>\n",
       "      <th>runtime</th>\n",
       "      <th>revenue</th>\n",
       "      <th>budget</th>\n",
       "      <th>release_day</th>\n",
       "      <th>release_month</th>\n",
       "      <th>genres</th>\n",
       "      <th>production_companies</th>\n",
       "      <th>cast</th>\n",
       "      <th>director</th>\n",
       "    </tr>\n",
       "  </thead>\n",
       "  <tbody>\n",
       "    <tr>\n",
       "      <th>0</th>\n",
       "      <td>tt2888046</td>\n",
       "      <td>7.1</td>\n",
       "      <td>teen</td>\n",
       "      <td>Yip Man 3</td>\n",
       "      <td>2015</td>\n",
       "      <td>zh</td>\n",
       "      <td>105</td>\n",
       "      <td>1.568448e+08</td>\n",
       "      <td>36000000.0</td>\n",
       "      <td>24</td>\n",
       "      <td>12.0</td>\n",
       "      <td>[Action, Biography, Drama, History]</td>\n",
       "      <td>[Dreams Salon Entertainment Culture, Henan Fil...</td>\n",
       "      <td>[Donnie Yen, Lynn Xiong, Jin Zhang, Mike Tyson...</td>\n",
       "      <td>[Wilson Yip]</td>\n",
       "    </tr>\n",
       "    <tr>\n",
       "      <th>1</th>\n",
       "      <td>tt1825683</td>\n",
       "      <td>7.4</td>\n",
       "      <td>teen</td>\n",
       "      <td>Black Panther</td>\n",
       "      <td>2018</td>\n",
       "      <td>en</td>\n",
       "      <td>134</td>\n",
       "      <td>1.347071e+09</td>\n",
       "      <td>200000000.0</td>\n",
       "      <td>15</td>\n",
       "      <td>2.0</td>\n",
       "      <td>[Action, Adventure, Sci-Fi]</td>\n",
       "      <td>[Marvel Studios, Moonlighting Films, Korean Fi...</td>\n",
       "      <td>[Chadwick Boseman, Michael B. Jordan, Lupita N...</td>\n",
       "      <td>[Ryan Coogler]</td>\n",
       "    </tr>\n",
       "  </tbody>\n",
       "</table>\n",
       "</div>"
      ],
      "text/plain": [
       "     imdb_id  vote_average   age original_title  release_year  \\\n",
       "0  tt2888046           7.1  teen      Yip Man 3          2015   \n",
       "1  tt1825683           7.4  teen  Black Panther          2018   \n",
       "\n",
       "  original_language  runtime       revenue       budget release_day  \\\n",
       "0                zh      105  1.568448e+08   36000000.0          24   \n",
       "1                en      134  1.347071e+09  200000000.0          15   \n",
       "\n",
       "   release_month                               genres  \\\n",
       "0           12.0  [Action, Biography, Drama, History]   \n",
       "1            2.0          [Action, Adventure, Sci-Fi]   \n",
       "\n",
       "                                production_companies  \\\n",
       "0  [Dreams Salon Entertainment Culture, Henan Fil...   \n",
       "1  [Marvel Studios, Moonlighting Films, Korean Fi...   \n",
       "\n",
       "                                                cast        director  \n",
       "0  [Donnie Yen, Lynn Xiong, Jin Zhang, Mike Tyson...    [Wilson Yip]  \n",
       "1  [Chadwick Boseman, Michael B. Jordan, Lupita N...  [Ryan Coogler]  "
      ]
     },
     "metadata": {},
     "output_type": "display_data"
    }
   ],
   "source": [
    "df_scraped_new_movies=pd.read_csv('combined_new_db.csv',encoding='latin-1')\n",
    "          \n",
    "df_scraped_new_movies['original_title'] = df_scraped_new_movies['original_title'].map(scraped_data_integration.get_title)\n",
    "money=['budget','revenue']\n",
    "df_scraped_new_movies[money]=df_scraped_new_movies[money].applymap(scraped_data_integration.get_money_new_movies)\n",
    "df_scraped_new_movies['release_month'] = df_scraped_new_movies['release_month'].map(scraped_data_integration.get_month)\n",
    "need_to_be_extracted=['genres', 'production_companies', 'director','cast']\n",
    "df_scraped_new_movies[need_to_be_extracted] = df_scraped_new_movies[need_to_be_extracted].applymap(scraped_data_integration.get_values)\n",
    "\n",
    "print(\"Additional data scraped, example rows:\")\n",
    "display(df_scraped_new_movies.head(2))"
   ]
  },
  {
   "cell_type": "markdown",
   "metadata": {
    "colab_type": "text",
    "id": "NVRFjROJjpJt"
   },
   "source": [
    "##  3 Data Preparation and Cleaning"
   ]
  },
  {
   "cell_type": "markdown",
   "metadata": {
    "colab_type": "text",
    "id": "N2Y_jtzvnFhe"
   },
   "source": [
    "### 3.1 Data Preparation"
   ]
  },
  {
   "cell_type": "markdown",
   "metadata": {
    "colab_type": "text",
    "id": "_WNfAh1GjpJw"
   },
   "source": [
    "#### 3.1.1 Drop Unnecessary Columns"
   ]
  },
  {
   "cell_type": "code",
   "execution_count": 7,
   "metadata": {
    "colab": {
     "base_uri": "https://localhost:8080/",
     "height": 270
    },
    "colab_type": "code",
    "id": "Xbu4ClfcjpJw",
    "outputId": "b8285d50-8171-4a89-be88-48b575e539ba"
   },
   "outputs": [],
   "source": [
    "col_of_interest_movies_metadata=['id', 'original_title','release_date','original_language','spoken_languages',\n",
    "                                 'runtime','genres','adult','production_companies','production_countries','budget',\n",
    "                                 'revenue', 'vote_average','imdb_id']\n",
    "df_movies_metadata=df_movies_metadata[col_of_interest_movies_metadata]\n",
    "\n",
    "col_of_interest_credits=['id','cast','crew']\n",
    "df_credits=df_credits[col_of_interest_credits]\n",
    "\n",
    "# Change name to id column\n",
    "df_ratings[\"id\"] = df_ratings[\"movieId\"]\n",
    "df_ratings = df_ratings.drop(['movieId'],axis=1)\n",
    "col_of_intrest_ratings = ['id', 'rating']\n",
    "df_ratings = df_ratings[col_of_intrest_ratings]\n"
   ]
  },
  {
   "cell_type": "markdown",
   "metadata": {
    "colab_type": "text",
    "id": "qdEQgEezjpJ1"
   },
   "source": [
    "#### 3.1.2 Type Conversion"
   ]
  },
  {
   "cell_type": "markdown",
   "metadata": {
    "colab_type": "text",
    "id": "8828G18cjpJ-"
   },
   "source": [
    "##### 3.1.2.1 Convert Categorical and Binary Variables to String"
   ]
  },
  {
   "cell_type": "code",
   "execution_count": 8,
   "metadata": {
    "colab": {
     "base_uri": "https://localhost:8080/",
     "height": 301
    },
    "colab_type": "code",
    "id": "FLUOYdEukx_8",
    "outputId": "591bdbb9-c54d-4ef9-cd9f-3bda35653d78"
   },
   "outputs": [],
   "source": [
    "df_movies_metadata['id'] = df_movies_metadata['id'].astype(np.str)\n",
    "\n",
    "df_credits_categorical_variables=['id','cast','crew']\n",
    "for variable in  df_credits_categorical_variables:\n",
    "    df_credits[variable] = df_credits[variable].astype(np.str)\n",
    "    \n",
    "df_ratings['id'] = df_ratings['id'].astype(np.str)"
   ]
  },
  {
   "cell_type": "markdown",
   "metadata": {
    "colab_type": "text",
    "id": "ilH-hCUPjpKC"
   },
   "source": [
    "##### 3.1.2.2 Convert Numeric Variables to Float"
   ]
  },
  {
   "cell_type": "code",
   "execution_count": 9,
   "metadata": {
    "colab": {
     "base_uri": "https://localhost:8080/",
     "height": 105
    },
    "colab_type": "code",
    "id": "Md5PuQ4TjpKD",
    "outputId": "35142912-022c-4f32-dfee-5a573a37b47f"
   },
   "outputs": [],
   "source": [
    "df_movies_metadata_numeric_variables = ['runtime','budget','revenue', 'vote_average']\n",
    "df_movies_metadata[df_movies_metadata_numeric_variables]= df_movies_metadata[df_movies_metadata_numeric_variables].astype(np.float)"
   ]
  },
  {
   "cell_type": "markdown",
   "metadata": {
    "colab_type": "text",
    "id": "xryLtmc0rYHE"
   },
   "source": [
    "#### 3.1.3 Integrate Age Data"
   ]
  },
  {
   "cell_type": "markdown",
   "metadata": {},
   "source": [
    "The age data represents the target age group (kids / teen / adult / na). This data is in another table, which we scraped."
   ]
  },
  {
   "cell_type": "code",
   "execution_count": 10,
   "metadata": {
    "colab": {},
    "colab_type": "code",
    "id": "FPoY4wjarXu4"
   },
   "outputs": [],
   "source": [
    "df_movies_metadata =pd.merge(df_movies_metadata,df_ages,on='imdb_id',how='outer')"
   ]
  },
  {
   "cell_type": "markdown",
   "metadata": {
    "colab_type": "text",
    "id": "A5IE5AbMjpKG"
   },
   "source": [
    "#### 3.1.4 Joining The Two Dataframes"
   ]
  },
  {
   "cell_type": "markdown",
   "metadata": {
    "colab_type": "text",
    "id": "RJrYIP05Yvwj"
   },
   "source": [
    "##### 3.1.4.1 Checking duplicates"
   ]
  },
  {
   "cell_type": "code",
   "execution_count": 11,
   "metadata": {
    "colab": {
     "base_uri": "https://localhost:8080/",
     "height": 758
    },
    "colab_type": "code",
    "id": "2NM18Bx2jpKK",
    "outputId": "d5ad2efb-6d0c-4b14-9e1e-f63db0af78f3"
   },
   "outputs": [
    {
     "name": "stdout",
     "output_type": "stream",
     "text": [
      "Total df_movies_metadata rows: 45463, unique rows: 45433\n",
      "Total df_credits rows: 45476, unique rows: 45432\n",
      "Total df_ratings rows: 26024289, unique rows: 45115\n",
      "\n",
      "Example of df_movies_metadata duplicate rows:\n"
     ]
    },
    {
     "data": {
      "text/html": [
       "<div>\n",
       "<style scoped>\n",
       "    .dataframe tbody tr th:only-of-type {\n",
       "        vertical-align: middle;\n",
       "    }\n",
       "\n",
       "    .dataframe tbody tr th {\n",
       "        vertical-align: top;\n",
       "    }\n",
       "\n",
       "    .dataframe thead th {\n",
       "        text-align: right;\n",
       "    }\n",
       "</style>\n",
       "<table border=\"1\" class=\"dataframe\">\n",
       "  <thead>\n",
       "    <tr style=\"text-align: right;\">\n",
       "      <th></th>\n",
       "      <th>id</th>\n",
       "      <th>original_title</th>\n",
       "      <th>release_date</th>\n",
       "      <th>original_language</th>\n",
       "      <th>spoken_languages</th>\n",
       "      <th>runtime</th>\n",
       "      <th>genres</th>\n",
       "      <th>adult</th>\n",
       "      <th>production_companies</th>\n",
       "      <th>production_countries</th>\n",
       "      <th>budget</th>\n",
       "      <th>revenue</th>\n",
       "      <th>vote_average</th>\n",
       "      <th>imdb_id</th>\n",
       "      <th>age</th>\n",
       "    </tr>\n",
       "  </thead>\n",
       "  <tbody>\n",
       "    <tr>\n",
       "      <th>676</th>\n",
       "      <td>105045</td>\n",
       "      <td>Das Versprechen</td>\n",
       "      <td>1995-02-16</td>\n",
       "      <td>de</td>\n",
       "      <td>[{'iso_639_1': 'de', 'name': 'Deutsch'}]</td>\n",
       "      <td>115.0</td>\n",
       "      <td>[{'id': 18, 'name': 'Drama'}, {'id': 10749, 'n...</td>\n",
       "      <td>False</td>\n",
       "      <td>[{'name': 'Studio Babelsberg', 'id': 264}, {'n...</td>\n",
       "      <td>[{'iso_3166_1': 'DE', 'name': 'Germany'}]</td>\n",
       "      <td>0.0</td>\n",
       "      <td>0.0</td>\n",
       "      <td>5.0</td>\n",
       "      <td>tt0111613</td>\n",
       "      <td>NaN</td>\n",
       "    </tr>\n",
       "    <tr>\n",
       "      <th>677</th>\n",
       "      <td>105045</td>\n",
       "      <td>Das Versprechen</td>\n",
       "      <td>1995-02-16</td>\n",
       "      <td>de</td>\n",
       "      <td>[{'iso_639_1': 'de', 'name': 'Deutsch'}]</td>\n",
       "      <td>115.0</td>\n",
       "      <td>[{'id': 18, 'name': 'Drama'}, {'id': 10749, 'n...</td>\n",
       "      <td>False</td>\n",
       "      <td>[{'name': 'Studio Babelsberg', 'id': 264}, {'n...</td>\n",
       "      <td>[{'iso_3166_1': 'DE', 'name': 'Germany'}]</td>\n",
       "      <td>0.0</td>\n",
       "      <td>0.0</td>\n",
       "      <td>5.0</td>\n",
       "      <td>tt0111613</td>\n",
       "      <td>NaN</td>\n",
       "    </tr>\n",
       "    <tr>\n",
       "      <th>4117</th>\n",
       "      <td>10991</td>\n",
       "      <td>Pokémon 3: The Movie</td>\n",
       "      <td>2000-07-08</td>\n",
       "      <td>ja</td>\n",
       "      <td>[{'iso_639_1': 'en', 'name': 'English'}]</td>\n",
       "      <td>93.0</td>\n",
       "      <td>[{'id': 12, 'name': 'Adventure'}, {'id': 14, '...</td>\n",
       "      <td>False</td>\n",
       "      <td>[{'name': 'TV Tokyo', 'id': 3034}, {'name': '4...</td>\n",
       "      <td>[{'iso_3166_1': 'JP', 'name': 'Japan'}]</td>\n",
       "      <td>16000000.0</td>\n",
       "      <td>68411275.0</td>\n",
       "      <td>6.0</td>\n",
       "      <td>tt0235679</td>\n",
       "      <td>kid</td>\n",
       "    </tr>\n",
       "    <tr>\n",
       "      <th>4118</th>\n",
       "      <td>10991</td>\n",
       "      <td>Pokémon 3: The Movie</td>\n",
       "      <td>2000-07-08</td>\n",
       "      <td>ja</td>\n",
       "      <td>[{'iso_639_1': 'en', 'name': 'English'}]</td>\n",
       "      <td>93.0</td>\n",
       "      <td>[{'id': 12, 'name': 'Adventure'}, {'id': 14, '...</td>\n",
       "      <td>False</td>\n",
       "      <td>[{'name': 'TV Tokyo', 'id': 3034}, {'name': '4...</td>\n",
       "      <td>[{'iso_3166_1': 'JP', 'name': 'Japan'}]</td>\n",
       "      <td>16000000.0</td>\n",
       "      <td>68411275.0</td>\n",
       "      <td>6.0</td>\n",
       "      <td>tt0235679</td>\n",
       "      <td>kid</td>\n",
       "    </tr>\n",
       "  </tbody>\n",
       "</table>\n",
       "</div>"
      ],
      "text/plain": [
       "          id        original_title release_date original_language  \\\n",
       "676   105045       Das Versprechen   1995-02-16                de   \n",
       "677   105045       Das Versprechen   1995-02-16                de   \n",
       "4117   10991  Pokémon 3: The Movie   2000-07-08                ja   \n",
       "4118   10991  Pokémon 3: The Movie   2000-07-08                ja   \n",
       "\n",
       "                              spoken_languages  runtime  \\\n",
       "676   [{'iso_639_1': 'de', 'name': 'Deutsch'}]    115.0   \n",
       "677   [{'iso_639_1': 'de', 'name': 'Deutsch'}]    115.0   \n",
       "4117  [{'iso_639_1': 'en', 'name': 'English'}]     93.0   \n",
       "4118  [{'iso_639_1': 'en', 'name': 'English'}]     93.0   \n",
       "\n",
       "                                                 genres  adult  \\\n",
       "676   [{'id': 18, 'name': 'Drama'}, {'id': 10749, 'n...  False   \n",
       "677   [{'id': 18, 'name': 'Drama'}, {'id': 10749, 'n...  False   \n",
       "4117  [{'id': 12, 'name': 'Adventure'}, {'id': 14, '...  False   \n",
       "4118  [{'id': 12, 'name': 'Adventure'}, {'id': 14, '...  False   \n",
       "\n",
       "                                   production_companies  \\\n",
       "676   [{'name': 'Studio Babelsberg', 'id': 264}, {'n...   \n",
       "677   [{'name': 'Studio Babelsberg', 'id': 264}, {'n...   \n",
       "4117  [{'name': 'TV Tokyo', 'id': 3034}, {'name': '4...   \n",
       "4118  [{'name': 'TV Tokyo', 'id': 3034}, {'name': '4...   \n",
       "\n",
       "                           production_countries      budget     revenue  \\\n",
       "676   [{'iso_3166_1': 'DE', 'name': 'Germany'}]         0.0         0.0   \n",
       "677   [{'iso_3166_1': 'DE', 'name': 'Germany'}]         0.0         0.0   \n",
       "4117    [{'iso_3166_1': 'JP', 'name': 'Japan'}]  16000000.0  68411275.0   \n",
       "4118    [{'iso_3166_1': 'JP', 'name': 'Japan'}]  16000000.0  68411275.0   \n",
       "\n",
       "      vote_average    imdb_id  age  \n",
       "676            5.0  tt0111613  NaN  \n",
       "677            5.0  tt0111613  NaN  \n",
       "4117           6.0  tt0235679  kid  \n",
       "4118           6.0  tt0235679  kid  "
      ]
     },
     "metadata": {},
     "output_type": "display_data"
    }
   ],
   "source": [
    "print(\"Total df_movies_metadata rows: {}, unique rows: {}\".format(df_movies_metadata.shape[0],df_movies_metadata.id.nunique()))\n",
    "print(\"Total df_credits rows: {}, unique rows: {}\".format(df_credits.shape[0],df_credits.id.nunique()))\n",
    "print(\"Total df_ratings rows: {}, unique rows: {}\".format(df_ratings.shape[0],df_ratings.id.nunique()))\n",
    "print(\"\")\n",
    "print(\"Example of df_movies_metadata duplicate rows:\")\n",
    "display(pd.concat(g for _, g in df_movies_metadata.groupby(\"id\") if len(g) > 1).head(4))"
   ]
  },
  {
   "cell_type": "markdown",
   "metadata": {
    "colab_type": "text",
    "id": "u-DS59fAY4RY"
   },
   "source": [
    "##### 3.1.4.2 Drop duplicates"
   ]
  },
  {
   "cell_type": "code",
   "execution_count": 12,
   "metadata": {
    "colab": {
     "base_uri": "https://localhost:8080/",
     "height": 87
    },
    "colab_type": "code",
    "id": "D8itEF1MjpKP",
    "outputId": "2d5f015c-cf19-477a-b457-e49a8ec50db8"
   },
   "outputs": [],
   "source": [
    "# It seems like all the duplicates are the same and don't really contain any new information. We will keep one copy.\n",
    "df_movies_metadata=df_movies_metadata.drop_duplicates(subset=['id'])\n",
    "df_credits=df_credits.drop_duplicates(subset=['id'])"
   ]
  },
  {
   "cell_type": "markdown",
   "metadata": {
    "colab_type": "text",
    "id": "tn1aZC7OQyht"
   },
   "source": [
    "##### 3.1.4.3 Keep only average rating per movie"
   ]
  },
  {
   "cell_type": "markdown",
   "metadata": {},
   "source": [
    "For each movie we have many user ratings, we keep only the average."
   ]
  },
  {
   "cell_type": "code",
   "execution_count": 13,
   "metadata": {
    "colab": {
     "base_uri": "https://localhost:8080/",
     "height": 52
    },
    "colab_type": "code",
    "id": "jMZOx6LYQxzP",
    "outputId": "88455294-7a5a-4299-a4d7-12e3c80ff63e"
   },
   "outputs": [],
   "source": [
    "df_ratings = pd.DataFrame({'avg_rating' : df_ratings.groupby('id')['rating'].sum() / df_ratings.groupby('id')['rating'].count()}).reset_index()"
   ]
  },
  {
   "cell_type": "markdown",
   "metadata": {
    "colab_type": "text",
    "id": "z0uQgTO_Y-Ma"
   },
   "source": [
    "##### 3.1.4.4 Combine the movie metadata, credits and ratings tables"
   ]
  },
  {
   "cell_type": "code",
   "execution_count": 14,
   "metadata": {
    "colab": {
     "base_uri": "https://localhost:8080/",
     "height": 34
    },
    "colab_type": "code",
    "id": "wUHK8fzpjpKS",
    "outputId": "82464fff-ce90-4cbf-9468-2b4b5e6ecf5b"
   },
   "outputs": [],
   "source": [
    "df =pd.merge(df_movies_metadata,df_credits, on='id',how='inner')\n",
    "df =pd.merge(df, df_ratings, on='id',how='left')"
   ]
  },
  {
   "cell_type": "markdown",
   "metadata": {
    "colab_type": "text",
    "id": "k_TWr6KSjpKV"
   },
   "source": [
    "#### 3.1.5 Extracting useful information"
   ]
  },
  {
   "cell_type": "markdown",
   "metadata": {},
   "source": [
    "##### 3.1.5.1 Extract the release date information"
   ]
  },
  {
   "cell_type": "markdown",
   "metadata": {},
   "source": [
    "Format the release date from DD/MM/YYYY format to three seperate columns."
   ]
  },
  {
   "cell_type": "code",
   "execution_count": 15,
   "metadata": {
    "colab": {
     "base_uri": "https://localhost:8080/",
     "height": 193
    },
    "colab_type": "code",
    "id": "rdi8pWtj1iy6",
    "outputId": "3d107479-7c58-4325-ee09-c91b5be5ce4a"
   },
   "outputs": [
    {
     "name": "stdout",
     "output_type": "stream",
     "text": [
      "Database after splitting the date from DD/MM/YYYY format to three seperate columns:\n"
     ]
    },
    {
     "data": {
      "text/html": [
       "<div>\n",
       "<style scoped>\n",
       "    .dataframe tbody tr th:only-of-type {\n",
       "        vertical-align: middle;\n",
       "    }\n",
       "\n",
       "    .dataframe tbody tr th {\n",
       "        vertical-align: top;\n",
       "    }\n",
       "\n",
       "    .dataframe thead th {\n",
       "        text-align: right;\n",
       "    }\n",
       "</style>\n",
       "<table border=\"1\" class=\"dataframe\">\n",
       "  <thead>\n",
       "    <tr style=\"text-align: right;\">\n",
       "      <th></th>\n",
       "      <th>id</th>\n",
       "      <th>original_title</th>\n",
       "      <th>original_language</th>\n",
       "      <th>spoken_languages</th>\n",
       "      <th>runtime</th>\n",
       "      <th>genres</th>\n",
       "      <th>adult</th>\n",
       "      <th>production_companies</th>\n",
       "      <th>production_countries</th>\n",
       "      <th>budget</th>\n",
       "      <th>revenue</th>\n",
       "      <th>vote_average</th>\n",
       "      <th>imdb_id</th>\n",
       "      <th>age</th>\n",
       "      <th>cast</th>\n",
       "      <th>crew</th>\n",
       "      <th>avg_rating</th>\n",
       "      <th>release_year</th>\n",
       "      <th>release_month</th>\n",
       "      <th>release_day</th>\n",
       "    </tr>\n",
       "  </thead>\n",
       "  <tbody>\n",
       "    <tr>\n",
       "      <th>0</th>\n",
       "      <td>862</td>\n",
       "      <td>Toy Story</td>\n",
       "      <td>en</td>\n",
       "      <td>[{'iso_639_1': 'en', 'name': 'English'}]</td>\n",
       "      <td>81.0</td>\n",
       "      <td>[{'id': 16, 'name': 'Animation'}, {'id': 35, '...</td>\n",
       "      <td>False</td>\n",
       "      <td>[{'name': 'Pixar Animation Studios', 'id': 3}]</td>\n",
       "      <td>[{'iso_3166_1': 'US', 'name': 'United States o...</td>\n",
       "      <td>30000000.0</td>\n",
       "      <td>373554033.0</td>\n",
       "      <td>7.7</td>\n",
       "      <td>tt0114709</td>\n",
       "      <td>kid</td>\n",
       "      <td>[{'cast_id': 14, 'character': 'Woody (voice)',...</td>\n",
       "      <td>[{'credit_id': '52fe4284c3a36847f8024f49', 'de...</td>\n",
       "      <td>3.59893</td>\n",
       "      <td>1995.0</td>\n",
       "      <td>10.0</td>\n",
       "      <td>Mon</td>\n",
       "    </tr>\n",
       "  </tbody>\n",
       "</table>\n",
       "</div>"
      ],
      "text/plain": [
       "    id original_title original_language  \\\n",
       "0  862      Toy Story                en   \n",
       "\n",
       "                           spoken_languages  runtime  \\\n",
       "0  [{'iso_639_1': 'en', 'name': 'English'}]     81.0   \n",
       "\n",
       "                                              genres  adult  \\\n",
       "0  [{'id': 16, 'name': 'Animation'}, {'id': 35, '...  False   \n",
       "\n",
       "                             production_companies  \\\n",
       "0  [{'name': 'Pixar Animation Studios', 'id': 3}]   \n",
       "\n",
       "                                production_countries      budget      revenue  \\\n",
       "0  [{'iso_3166_1': 'US', 'name': 'United States o...  30000000.0  373554033.0   \n",
       "\n",
       "   vote_average    imdb_id  age  \\\n",
       "0           7.7  tt0114709  kid   \n",
       "\n",
       "                                                cast  \\\n",
       "0  [{'cast_id': 14, 'character': 'Woody (voice)',...   \n",
       "\n",
       "                                                crew  avg_rating  \\\n",
       "0  [{'credit_id': '52fe4284c3a36847f8024f49', 'de...     3.59893   \n",
       "\n",
       "   release_year  release_month release_day  \n",
       "0        1995.0           10.0         Mon  "
      ]
     },
     "metadata": {},
     "output_type": "display_data"
    }
   ],
   "source": [
    "df['release_year']=pd.to_datetime(df['release_date']).apply(lambda x: x.year)\n",
    "df['release_month']=pd.to_datetime(df['release_date']).apply(lambda x: x.month)\n",
    "df['release_day']=pd.to_datetime(df['release_date']).apply(lambda x: extracting_useful_information.get_day(x))\n",
    "\n",
    "df=df.drop(['release_date'],axis=1)\n",
    "print(\"Database after splitting the date from DD/MM/YYYY format to three seperate columns:\")\n",
    "display(df.head(1))"
   ]
  },
  {
   "cell_type": "markdown",
   "metadata": {
    "colab_type": "text",
    "id": "QK74kwy7jpKY"
   },
   "source": [
    "##### 3.1.5.2 Extract the values from the categorical columns"
   ]
  },
  {
   "cell_type": "markdown",
   "metadata": {},
   "source": [
    "In the database we have lists stored in a string format. For example the genres of the movies are stored in a string, with the genres seperated by a comma.<br>\n",
    "We turn these strings into a python list."
   ]
  },
  {
   "cell_type": "code",
   "execution_count": 16,
   "metadata": {
    "colab": {},
    "colab_type": "code",
    "id": "U10fxpD2jpKb"
   },
   "outputs": [],
   "source": [
    "# Turns a string that represents a list into a python list\n",
    "need_to_be_extracted=['genres', 'production_companies', 'production_countries', 'spoken_languages','cast']\n",
    "df[need_to_be_extracted] = df[need_to_be_extracted].applymap(extracting_useful_information.get_values)\n",
    "\n",
    "# Extracing the director from crew array\n",
    "df['director'] = df['crew'].map(extracting_useful_information.get_director)"
   ]
  },
  {
   "cell_type": "markdown",
   "metadata": {
    "colab_type": "text",
    "id": "3Of3UmAJrgOv"
   },
   "source": [
    "#### 3.1.6 Scraped Data Integration"
   ]
  },
  {
   "cell_type": "markdown",
   "metadata": {},
   "source": [
    "We combine the scraped movie database with the original Kaggle database."
   ]
  },
  {
   "cell_type": "code",
   "execution_count": 17,
   "metadata": {
    "colab": {
     "base_uri": "https://localhost:8080/",
     "height": 6026
    },
    "colab_type": "code",
    "id": "C4z1nw5nkjaH",
    "outputId": "5ff82a1a-f880-487c-d4a9-27247646ce2b"
   },
   "outputs": [],
   "source": [
    "df_scraped_new_movies['release_day']=df_scraped_new_movies['release_day'].apply(extracting_useful_information.get_day)\n",
    "df = pd.concat([df,df_scraped_new_movies]).reset_index(drop=True)\n",
    "df = df.drop_duplicates(subset='imdb_id', keep=\"last\")"
   ]
  },
  {
   "cell_type": "markdown",
   "metadata": {},
   "source": [
    "#### 3.1.7 Selecting the relevant columns from the full DB"
   ]
  },
  {
   "cell_type": "code",
   "execution_count": 18,
   "metadata": {
    "colab": {
     "base_uri": "https://localhost:8080/",
     "height": 197
    },
    "colab_type": "code",
    "id": "1KWmSWXCjpKj",
    "outputId": "f9e6f74e-ac6d-4595-ef6b-50b491861626"
   },
   "outputs": [
    {
     "name": "stdout",
     "output_type": "stream",
     "text": [
      "Example of a movie with all the extracted relevant columns\n"
     ]
    },
    {
     "data": {
      "text/html": [
       "<div>\n",
       "<style scoped>\n",
       "    .dataframe tbody tr th:only-of-type {\n",
       "        vertical-align: middle;\n",
       "    }\n",
       "\n",
       "    .dataframe tbody tr th {\n",
       "        vertical-align: top;\n",
       "    }\n",
       "\n",
       "    .dataframe thead th {\n",
       "        text-align: right;\n",
       "    }\n",
       "</style>\n",
       "<table border=\"1\" class=\"dataframe\">\n",
       "  <thead>\n",
       "    <tr style=\"text-align: right;\">\n",
       "      <th></th>\n",
       "      <th>id</th>\n",
       "      <th>original_title</th>\n",
       "      <th>release_year</th>\n",
       "      <th>release_month</th>\n",
       "      <th>release_day</th>\n",
       "      <th>original_language</th>\n",
       "      <th>spoken_languages</th>\n",
       "      <th>runtime</th>\n",
       "      <th>genres</th>\n",
       "      <th>age</th>\n",
       "      <th>adult</th>\n",
       "      <th>production_companies</th>\n",
       "      <th>production_countries</th>\n",
       "      <th>cast</th>\n",
       "      <th>director</th>\n",
       "      <th>budget</th>\n",
       "      <th>revenue</th>\n",
       "      <th>vote_average</th>\n",
       "      <th>avg_rating</th>\n",
       "    </tr>\n",
       "  </thead>\n",
       "  <tbody>\n",
       "    <tr>\n",
       "      <th>2</th>\n",
       "      <td>15602</td>\n",
       "      <td>Grumpier Old Men</td>\n",
       "      <td>1995.0</td>\n",
       "      <td>12.0</td>\n",
       "      <td>Fri</td>\n",
       "      <td>en</td>\n",
       "      <td>[English]</td>\n",
       "      <td>101.0</td>\n",
       "      <td>[Romance, Comedy]</td>\n",
       "      <td>NaN</td>\n",
       "      <td>False</td>\n",
       "      <td>[Warner Bros., Lancaster Gate]</td>\n",
       "      <td>[United States of America]</td>\n",
       "      <td>[Walter Matthau, Jack Lemmon, Ann-Margret, Sop...</td>\n",
       "      <td>[Howard Deutch]</td>\n",
       "      <td>0.0</td>\n",
       "      <td>0.0</td>\n",
       "      <td>6.5</td>\n",
       "      <td>NaN</td>\n",
       "    </tr>\n",
       "  </tbody>\n",
       "</table>\n",
       "</div>"
      ],
      "text/plain": [
       "      id    original_title  release_year  release_month release_day  \\\n",
       "2  15602  Grumpier Old Men        1995.0           12.0         Fri   \n",
       "\n",
       "  original_language spoken_languages  runtime             genres  age  adult  \\\n",
       "2                en        [English]    101.0  [Romance, Comedy]  NaN  False   \n",
       "\n",
       "             production_companies        production_countries  \\\n",
       "2  [Warner Bros., Lancaster Gate]  [United States of America]   \n",
       "\n",
       "                                                cast         director  budget  \\\n",
       "2  [Walter Matthau, Jack Lemmon, Ann-Margret, Sop...  [Howard Deutch]     0.0   \n",
       "\n",
       "   revenue  vote_average  avg_rating  \n",
       "2      0.0           6.5         NaN  "
      ]
     },
     "metadata": {},
     "output_type": "display_data"
    }
   ],
   "source": [
    "col_of_interest_df=['id', 'original_title','release_year','release_month','release_day',\n",
    "                    'original_language','spoken_languages','runtime','genres','age',\n",
    "                    'adult','production_companies','production_countries','cast','director','budget','revenue', 'vote_average', 'avg_rating']\n",
    "df=df[col_of_interest_df]\n",
    "print(\"Example of a movie with all the extracted relevant columns\")\n",
    "display(df.head(1))"
   ]
  },
  {
   "cell_type": "markdown",
   "metadata": {
    "colab_type": "text",
    "id": "wDyK0RPQonnL"
   },
   "source": [
    "### 3.2 Data Cleaning"
   ]
  },
  {
   "cell_type": "markdown",
   "metadata": {
    "colab_type": "text",
    "id": "NNcRfKgXU_Pd"
   },
   "source": [
    "#### 3.2.1 Impute Missing Values"
   ]
  },
  {
   "cell_type": "code",
   "execution_count": 19,
   "metadata": {
    "colab": {
     "base_uri": "https://localhost:8080/",
     "height": 390
    },
    "colab_type": "code",
    "id": "anzcGZXyU-ct",
    "outputId": "a6dffe33-a7ac-4312-cd20-ac79748d3050"
   },
   "outputs": [
    {
     "name": "stdout",
     "output_type": "stream",
     "text": [
      "For each column, count the number of missing values:\n"
     ]
    },
    {
     "data": {
      "text/plain": [
       "id                       2779\n",
       "original_title              0\n",
       "release_year               85\n",
       "release_month              87\n",
       "release_day              2864\n",
       "original_language          11\n",
       "spoken_languages         6601\n",
       "runtime                   258\n",
       "genres                   2437\n",
       "age                     39684\n",
       "adult                    2779\n",
       "production_companies    11838\n",
       "production_countries     9045\n",
       "cast                     2411\n",
       "director                  768\n",
       "budget                      0\n",
       "revenue                     3\n",
       "vote_average                3\n",
       "avg_rating              38837\n",
       "dtype: int64"
      ]
     },
     "execution_count": 19,
     "metadata": {},
     "output_type": "execute_result"
    }
   ],
   "source": [
    "print(\"For each column, count the number of missing values:\")\n",
    "df.isnull().sum()"
   ]
  },
  {
   "cell_type": "markdown",
   "metadata": {},
   "source": [
    "#### 3.2.2 Replacing and removing missing values"
   ]
  },
  {
   "cell_type": "code",
   "execution_count": 20,
   "metadata": {
    "colab": {
     "base_uri": "https://localhost:8080/",
     "height": 158
    },
    "colab_type": "code",
    "id": "dz1YwZx1YiaF",
    "outputId": "759813f5-0b84-499e-aa7c-f8942784036a"
   },
   "outputs": [
    {
     "name": "stdout",
     "output_type": "stream",
     "text": [
      "Replacing each missing value in release_year with release_year mode (=2014.0)\n",
      "Replacing each missing value in release_month with release_month mode (=1.0)\n",
      "Replacing each missing value in release_day with release_day mode (=Fri)\n",
      "Replacing each missing value in original_language with original_language mode (=en)\n",
      "Replacing each missing value in age with na\n",
      "Replacing each 0/Nan in runtime with runtime mean (=94.19610960234925)\n",
      "Replacing each na in avg_rating with -1 so we'll know it's missing\n",
      "Replacing each na in vote_average with -1 so we'll know it's missing\n"
     ]
    }
   ],
   "source": [
    "# release_year\n",
    "print(\"Replacing each missing value in release_year with release_year mode (={})\".format(df[\"release_year\"].mode()[0]))\n",
    "df[\"release_year\"].fillna(df[\"release_year\"].mode()[0], inplace=True)\n",
    "\n",
    "# release month\n",
    "print(\"Replacing each missing value in release_month with release_month mode (={})\".format(df[\"release_month\"].mode()[0]))\n",
    "df[\"release_month\"].fillna(df[\"release_month\"].mode()[0], inplace=True)\n",
    "\n",
    "# release day\n",
    "print(\"Replacing each missing value in release_day with release_day mode (={})\".format(df[\"release_day\"].mode()[0]))\n",
    "df[\"release_day\"].fillna(df[\"release_day\"].mode()[0], inplace=True)\n",
    "\n",
    "# original language\n",
    "print(\"Replacing each missing value in original_language with original_language mode (={})\".format(df[\"original_language\"].mode()[0]))\n",
    "df[\"original_language\"].fillna(df[\"original_language\"].mode()[0], inplace=True)\n",
    "\n",
    "# age\n",
    "print(\"Replacing each missing value in age with na\")\n",
    "df[\"age\"].fillna('na', inplace=True)\n",
    "\n",
    "# runtime\n",
    "print(\"Replacing each 0/Nan in runtime with runtime mean (={})\".format(df[\"runtime\"].mean()))\n",
    "df[\"runtime\"].replace(0, df[\"runtime\"][df[\"runtime\"] != 0].mean(), inplace=True)\n",
    "df[\"runtime\"].fillna(df[\"runtime\"][df[\"runtime\"] != 0].mean(), inplace=True)\n",
    "\n",
    "# avg_rating\n",
    "print(\"Replacing each na in avg_rating with -1 so we'll know it's missing\")\n",
    "df[\"avg_rating\"].fillna(-1, inplace=True)\n",
    "\n",
    "# vote_average\n",
    "print(\"Replacing each na in vote_average with -1 so we'll know it's missing\")\n",
    "df[\"vote_average\"].fillna(-1, inplace=True)\n",
    "\n",
    "# revenue\n",
    "df.drop(df[df.revenue == 0].index, inplace=True)\n",
    "\n",
    "# budget - We estimate the budget later\n",
    "df.drop(df[df.budget == 0].index, inplace=True)"
   ]
  },
  {
   "cell_type": "markdown",
   "metadata": {},
   "source": [
    "#### 3.2.3 Drop all rows with missing data"
   ]
  },
  {
   "cell_type": "markdown",
   "metadata": {},
   "source": [
    "Drop all rows with missing data, after we filled missing values in the previous block.<br>Ignore missing values in the following columns - adult, production_countries, id, spoken_languages."
   ]
  },
  {
   "cell_type": "code",
   "execution_count": 21,
   "metadata": {
    "colab": {
     "base_uri": "https://localhost:8080/",
     "height": 667
    },
    "colab_type": "code",
    "id": "99o1j14-YvMK",
    "outputId": "791bbcb8-8120-4044-d1f8-929c4ab76b41"
   },
   "outputs": [
    {
     "name": "stdout",
     "output_type": "stream",
     "text": [
      "Displaying example dropped rows:\n"
     ]
    },
    {
     "data": {
      "text/html": [
       "<div>\n",
       "<style scoped>\n",
       "    .dataframe tbody tr th:only-of-type {\n",
       "        vertical-align: middle;\n",
       "    }\n",
       "\n",
       "    .dataframe tbody tr th {\n",
       "        vertical-align: top;\n",
       "    }\n",
       "\n",
       "    .dataframe thead th {\n",
       "        text-align: right;\n",
       "    }\n",
       "</style>\n",
       "<table border=\"1\" class=\"dataframe\">\n",
       "  <thead>\n",
       "    <tr style=\"text-align: right;\">\n",
       "      <th></th>\n",
       "      <th>id</th>\n",
       "      <th>original_title</th>\n",
       "      <th>release_year</th>\n",
       "      <th>release_month</th>\n",
       "      <th>release_day</th>\n",
       "      <th>original_language</th>\n",
       "      <th>spoken_languages</th>\n",
       "      <th>runtime</th>\n",
       "      <th>genres</th>\n",
       "      <th>age</th>\n",
       "      <th>adult</th>\n",
       "      <th>production_companies</th>\n",
       "      <th>production_countries</th>\n",
       "      <th>cast</th>\n",
       "      <th>director</th>\n",
       "      <th>budget</th>\n",
       "      <th>revenue</th>\n",
       "      <th>vote_average</th>\n",
       "      <th>avg_rating</th>\n",
       "    </tr>\n",
       "  </thead>\n",
       "  <tbody>\n",
       "    <tr>\n",
       "      <th>386</th>\n",
       "      <td>22067</td>\n",
       "      <td>Jason's Lyric</td>\n",
       "      <td>1994.0</td>\n",
       "      <td>9.0</td>\n",
       "      <td>Wed</td>\n",
       "      <td>en</td>\n",
       "      <td>[English]</td>\n",
       "      <td>119.0</td>\n",
       "      <td>[Crime, Drama, Romance]</td>\n",
       "      <td>na</td>\n",
       "      <td>False</td>\n",
       "      <td>None</td>\n",
       "      <td>[United States of America]</td>\n",
       "      <td>[Allen Payne, Jada Pinkett Smith, Bokeem Woodb...</td>\n",
       "      <td>[Doug McHenry]</td>\n",
       "      <td>7000000.0</td>\n",
       "      <td>20851521.0</td>\n",
       "      <td>5.9</td>\n",
       "      <td>-1.000000</td>\n",
       "    </tr>\n",
       "    <tr>\n",
       "      <th>805</th>\n",
       "      <td>11962</td>\n",
       "      <td>Joe's Apartment</td>\n",
       "      <td>1996.0</td>\n",
       "      <td>7.0</td>\n",
       "      <td>Fri</td>\n",
       "      <td>en</td>\n",
       "      <td>[English]</td>\n",
       "      <td>78.0</td>\n",
       "      <td>[Fantasy, Comedy, Music]</td>\n",
       "      <td>teen</td>\n",
       "      <td>False</td>\n",
       "      <td>None</td>\n",
       "      <td>[United States of America]</td>\n",
       "      <td>[Jerry O'Connell, Megan Ward, Billy West, Regi...</td>\n",
       "      <td>[John Payson]</td>\n",
       "      <td>13000000.0</td>\n",
       "      <td>4619014.0</td>\n",
       "      <td>5.0</td>\n",
       "      <td>-1.000000</td>\n",
       "    </tr>\n",
       "    <tr>\n",
       "      <th>1151</th>\n",
       "      <td>31225</td>\n",
       "      <td>Paris is Burning</td>\n",
       "      <td>1990.0</td>\n",
       "      <td>3.0</td>\n",
       "      <td>Tue</td>\n",
       "      <td>en</td>\n",
       "      <td>[English]</td>\n",
       "      <td>71.0</td>\n",
       "      <td>[Documentary]</td>\n",
       "      <td>adult</td>\n",
       "      <td>False</td>\n",
       "      <td>None</td>\n",
       "      <td>[United States of America]</td>\n",
       "      <td>[Dorian Corey, Pepper LaBeija, Willi Ninja, Oc...</td>\n",
       "      <td>[Jennie Livingston]</td>\n",
       "      <td>500000.0</td>\n",
       "      <td>3779620.0</td>\n",
       "      <td>8.2</td>\n",
       "      <td>3.642808</td>\n",
       "    </tr>\n",
       "    <tr>\n",
       "      <th>1486</th>\n",
       "      <td>49235</td>\n",
       "      <td>Squeeze</td>\n",
       "      <td>1997.0</td>\n",
       "      <td>6.0</td>\n",
       "      <td>Fri</td>\n",
       "      <td>en</td>\n",
       "      <td>None</td>\n",
       "      <td>95.0</td>\n",
       "      <td>[Crime, Drama]</td>\n",
       "      <td>adult</td>\n",
       "      <td>False</td>\n",
       "      <td>None</td>\n",
       "      <td>None</td>\n",
       "      <td>[Tyrone Burton, Eddie Cutanda, Phuong Duong, G...</td>\n",
       "      <td>[Robert Patton-Spruill]</td>\n",
       "      <td>500000.0</td>\n",
       "      <td>10300.0</td>\n",
       "      <td>6.0</td>\n",
       "      <td>-1.000000</td>\n",
       "    </tr>\n",
       "    <tr>\n",
       "      <th>1775</th>\n",
       "      <td>9844</td>\n",
       "      <td>The Opposite of Sex</td>\n",
       "      <td>1998.0</td>\n",
       "      <td>5.0</td>\n",
       "      <td>Fri</td>\n",
       "      <td>en</td>\n",
       "      <td>[English]</td>\n",
       "      <td>105.0</td>\n",
       "      <td>[Comedy, Drama]</td>\n",
       "      <td>adult</td>\n",
       "      <td>False</td>\n",
       "      <td>None</td>\n",
       "      <td>[United States of America]</td>\n",
       "      <td>[Christina Ricci, Martin Donovan, Lisa Kudrow,...</td>\n",
       "      <td>[Don Roos]</td>\n",
       "      <td>5000000.0</td>\n",
       "      <td>5879254.0</td>\n",
       "      <td>5.9</td>\n",
       "      <td>-1.000000</td>\n",
       "    </tr>\n",
       "  </tbody>\n",
       "</table>\n",
       "</div>"
      ],
      "text/plain": [
       "         id       original_title  release_year  release_month release_day  \\\n",
       "386   22067        Jason's Lyric        1994.0            9.0         Wed   \n",
       "805   11962      Joe's Apartment        1996.0            7.0         Fri   \n",
       "1151  31225     Paris is Burning        1990.0            3.0         Tue   \n",
       "1486  49235              Squeeze        1997.0            6.0         Fri   \n",
       "1775   9844  The Opposite of Sex        1998.0            5.0         Fri   \n",
       "\n",
       "     original_language spoken_languages  runtime                    genres  \\\n",
       "386                 en        [English]    119.0   [Crime, Drama, Romance]   \n",
       "805                 en        [English]     78.0  [Fantasy, Comedy, Music]   \n",
       "1151                en        [English]     71.0             [Documentary]   \n",
       "1486                en             None     95.0            [Crime, Drama]   \n",
       "1775                en        [English]    105.0           [Comedy, Drama]   \n",
       "\n",
       "        age  adult production_companies        production_countries  \\\n",
       "386      na  False                 None  [United States of America]   \n",
       "805    teen  False                 None  [United States of America]   \n",
       "1151  adult  False                 None  [United States of America]   \n",
       "1486  adult  False                 None                        None   \n",
       "1775  adult  False                 None  [United States of America]   \n",
       "\n",
       "                                                   cast  \\\n",
       "386   [Allen Payne, Jada Pinkett Smith, Bokeem Woodb...   \n",
       "805   [Jerry O'Connell, Megan Ward, Billy West, Regi...   \n",
       "1151  [Dorian Corey, Pepper LaBeija, Willi Ninja, Oc...   \n",
       "1486  [Tyrone Burton, Eddie Cutanda, Phuong Duong, G...   \n",
       "1775  [Christina Ricci, Martin Donovan, Lisa Kudrow,...   \n",
       "\n",
       "                     director      budget     revenue  vote_average  \\\n",
       "386            [Doug McHenry]   7000000.0  20851521.0           5.9   \n",
       "805             [John Payson]  13000000.0   4619014.0           5.0   \n",
       "1151      [Jennie Livingston]    500000.0   3779620.0           8.2   \n",
       "1486  [Robert Patton-Spruill]    500000.0     10300.0           6.0   \n",
       "1775               [Don Roos]   5000000.0   5879254.0           5.9   \n",
       "\n",
       "      avg_rating  \n",
       "386    -1.000000  \n",
       "805    -1.000000  \n",
       "1151    3.642808  \n",
       "1486   -1.000000  \n",
       "1775   -1.000000  "
      ]
     },
     "metadata": {},
     "output_type": "display_data"
    }
   ],
   "source": [
    "na_free = df.dropna(subset=[item for item in list(df.columns.values) if item not in ['adult','production_countries','id','spoken_languages']])\n",
    "only_na = df[~df.index.isin(na_free.index)]\n",
    "df = na_free\n",
    "print(\"Displaying example dropped rows:\")\n",
    "display(only_na.head(5))"
   ]
  },
  {
   "cell_type": "markdown",
   "metadata": {
    "colab_type": "text",
    "id": "Z477Z-KAfp6t"
   },
   "source": [
    "#### 3.2.4 Inflation Normalization"
   ]
  },
  {
   "cell_type": "markdown",
   "metadata": {},
   "source": [
    "Normalize the buget and revenue according to inflation, all amounts are normalized to their 2017 equivalent.<br>\n",
    "The python library which we use only has information until 2017, however the inflation between 2017-2019 is negligible."
   ]
  },
  {
   "cell_type": "code",
   "execution_count": 22,
   "metadata": {
    "colab": {
     "base_uri": "https://localhost:8080/",
     "height": 647
    },
    "colab_type": "code",
    "id": "3LERgD3QcSFk",
    "outputId": "9bf332d7-c68f-4672-caf7-1459b3fa34a7"
   },
   "outputs": [
    {
     "name": "stdout",
     "output_type": "stream",
     "text": [
      "Example rows after inflation normalization:\n"
     ]
    },
    {
     "data": {
      "text/html": [
       "<div>\n",
       "<style scoped>\n",
       "    .dataframe tbody tr th:only-of-type {\n",
       "        vertical-align: middle;\n",
       "    }\n",
       "\n",
       "    .dataframe tbody tr th {\n",
       "        vertical-align: top;\n",
       "    }\n",
       "\n",
       "    .dataframe thead th {\n",
       "        text-align: right;\n",
       "    }\n",
       "</style>\n",
       "<table border=\"1\" class=\"dataframe\">\n",
       "  <thead>\n",
       "    <tr style=\"text-align: right;\">\n",
       "      <th></th>\n",
       "      <th>id</th>\n",
       "      <th>original_title</th>\n",
       "      <th>release_year</th>\n",
       "      <th>release_month</th>\n",
       "      <th>release_day</th>\n",
       "      <th>original_language</th>\n",
       "      <th>spoken_languages</th>\n",
       "      <th>runtime</th>\n",
       "      <th>genres</th>\n",
       "      <th>age</th>\n",
       "      <th>...</th>\n",
       "      <th>production_companies</th>\n",
       "      <th>production_countries</th>\n",
       "      <th>cast</th>\n",
       "      <th>director</th>\n",
       "      <th>budget</th>\n",
       "      <th>revenue</th>\n",
       "      <th>vote_average</th>\n",
       "      <th>avg_rating</th>\n",
       "      <th>budget_InfAdj</th>\n",
       "      <th>revenue_InfAdj</th>\n",
       "    </tr>\n",
       "  </thead>\n",
       "  <tbody>\n",
       "    <tr>\n",
       "      <th>8</th>\n",
       "      <td>9091</td>\n",
       "      <td>Sudden Death</td>\n",
       "      <td>1995.0</td>\n",
       "      <td>12.0</td>\n",
       "      <td>Fri</td>\n",
       "      <td>en</td>\n",
       "      <td>[English]</td>\n",
       "      <td>106.0</td>\n",
       "      <td>[Action, Adventure, Thriller]</td>\n",
       "      <td>adult</td>\n",
       "      <td>...</td>\n",
       "      <td>[Universal Pictures, Imperial Entertainment, S...</td>\n",
       "      <td>[United States of America]</td>\n",
       "      <td>[Jean-Claude Van Damme, Powers Boothe, Dorian ...</td>\n",
       "      <td>[Peter Hyams]</td>\n",
       "      <td>35000000.0</td>\n",
       "      <td>64350171.0</td>\n",
       "      <td>5.5</td>\n",
       "      <td>-1.000000</td>\n",
       "      <td>5.630002e+07</td>\n",
       "      <td>1.035119e+08</td>\n",
       "    </tr>\n",
       "    <tr>\n",
       "      <th>10</th>\n",
       "      <td>9087</td>\n",
       "      <td>The American President</td>\n",
       "      <td>1995.0</td>\n",
       "      <td>11.0</td>\n",
       "      <td>Fri</td>\n",
       "      <td>en</td>\n",
       "      <td>[English]</td>\n",
       "      <td>106.0</td>\n",
       "      <td>[Comedy, Drama, Romance]</td>\n",
       "      <td>teen</td>\n",
       "      <td>...</td>\n",
       "      <td>[Columbia Pictures, Castle Rock Entertainment]</td>\n",
       "      <td>[United States of America]</td>\n",
       "      <td>[Michael Douglas, Annette Bening, Michael J. F...</td>\n",
       "      <td>[Rob Reiner]</td>\n",
       "      <td>62000000.0</td>\n",
       "      <td>107879496.0</td>\n",
       "      <td>6.5</td>\n",
       "      <td>-1.000000</td>\n",
       "      <td>9.973147e+07</td>\n",
       "      <td>1.735320e+08</td>\n",
       "    </tr>\n",
       "    <tr>\n",
       "      <th>14</th>\n",
       "      <td>1408</td>\n",
       "      <td>Cutthroat Island</td>\n",
       "      <td>1995.0</td>\n",
       "      <td>12.0</td>\n",
       "      <td>Fri</td>\n",
       "      <td>en</td>\n",
       "      <td>[English, Latin]</td>\n",
       "      <td>119.0</td>\n",
       "      <td>[Action, Adventure]</td>\n",
       "      <td>teen</td>\n",
       "      <td>...</td>\n",
       "      <td>[Le Studio Canal+, Laurence Mark Productions, ...</td>\n",
       "      <td>[France, Germany, Italy, United States of Amer...</td>\n",
       "      <td>[Geena Davis, Matthew Modine, Frank Langella, ...</td>\n",
       "      <td>[Renny Harlin]</td>\n",
       "      <td>98000000.0</td>\n",
       "      <td>10017322.0</td>\n",
       "      <td>5.7</td>\n",
       "      <td>3.710181</td>\n",
       "      <td>1.576401e+08</td>\n",
       "      <td>1.611358e+07</td>\n",
       "    </tr>\n",
       "  </tbody>\n",
       "</table>\n",
       "<p>3 rows × 21 columns</p>\n",
       "</div>"
      ],
      "text/plain": [
       "      id          original_title  release_year  release_month release_day  \\\n",
       "8   9091            Sudden Death        1995.0           12.0         Fri   \n",
       "10  9087  The American President        1995.0           11.0         Fri   \n",
       "14  1408        Cutthroat Island        1995.0           12.0         Fri   \n",
       "\n",
       "   original_language  spoken_languages  runtime  \\\n",
       "8                 en         [English]    106.0   \n",
       "10                en         [English]    106.0   \n",
       "14                en  [English, Latin]    119.0   \n",
       "\n",
       "                           genres    age       ...        \\\n",
       "8   [Action, Adventure, Thriller]  adult       ...         \n",
       "10       [Comedy, Drama, Romance]   teen       ...         \n",
       "14            [Action, Adventure]   teen       ...         \n",
       "\n",
       "                                 production_companies  \\\n",
       "8   [Universal Pictures, Imperial Entertainment, S...   \n",
       "10     [Columbia Pictures, Castle Rock Entertainment]   \n",
       "14  [Le Studio Canal+, Laurence Mark Productions, ...   \n",
       "\n",
       "                                 production_countries  \\\n",
       "8                          [United States of America]   \n",
       "10                         [United States of America]   \n",
       "14  [France, Germany, Italy, United States of Amer...   \n",
       "\n",
       "                                                 cast        director  \\\n",
       "8   [Jean-Claude Van Damme, Powers Boothe, Dorian ...   [Peter Hyams]   \n",
       "10  [Michael Douglas, Annette Bening, Michael J. F...    [Rob Reiner]   \n",
       "14  [Geena Davis, Matthew Modine, Frank Langella, ...  [Renny Harlin]   \n",
       "\n",
       "        budget      revenue  vote_average  avg_rating  budget_InfAdj  \\\n",
       "8   35000000.0   64350171.0           5.5   -1.000000   5.630002e+07   \n",
       "10  62000000.0  107879496.0           6.5   -1.000000   9.973147e+07   \n",
       "14  98000000.0   10017322.0           5.7    3.710181   1.576401e+08   \n",
       "\n",
       "    revenue_InfAdj  \n",
       "8     1.035119e+08  \n",
       "10    1.735320e+08  \n",
       "14    1.611358e+07  \n",
       "\n",
       "[3 rows x 21 columns]"
      ]
     },
     "metadata": {},
     "output_type": "display_data"
    }
   ],
   "source": [
    "df = df.copy()\n",
    "ep = EasyPeasy()\n",
    "# USA: Alpha2 = US/ Alpha3 = USA/ Currencies = USD/ InflationDates = [1960,2017]\n",
    "\n",
    "# We've got inflation history only since 1960\n",
    "df=df[df.release_year>1959]\n",
    "\n",
    "out = df.apply(lambda x: ep.normalize(amount=x.budget, region=\"USA\", from_year=x.release_year, to_year=\"2017\", base_currency=\"USD\", pretty_print=False), axis=1)\n",
    "df['budget_InfAdj'] = out\n",
    "\n",
    "out = df.apply(lambda x: ep.normalize(amount=x.revenue, region=\"USA\", from_year=x.release_year, to_year=\"2017\", base_currency=\"USD\", pretty_print=False), axis=1)\n",
    "df['revenue_InfAdj'] = out\n",
    "\n",
    "print(\"Example rows after inflation normalization:\")\n",
    "display(df.head(3))"
   ]
  },
  {
   "cell_type": "markdown",
   "metadata": {
    "colab_type": "text",
    "id": "Jqh5Ctt1pNEj"
   },
   "source": [
    "#### 3.2.5 Remove Runtime Outliers"
   ]
  },
  {
   "cell_type": "markdown",
   "metadata": {},
   "source": [
    "Remove all movies whose length is more than 4 hours, they are outliers in thier category.<br>\n",
    "This effects only a 0.0000036 percentage of the movies."
   ]
  },
  {
   "cell_type": "code",
   "execution_count": 23,
   "metadata": {
    "colab": {
     "base_uri": "https://localhost:8080/",
     "height": 300
    },
    "colab_type": "code",
    "id": "wqfzU1NtpRG9",
    "outputId": "b1699faf-b0d8-4de4-ed89-5246c023084c"
   },
   "outputs": [
    {
     "name": "stdout",
     "output_type": "stream",
     "text": [
      "Outlier runtime movies percentage: 0.0000036%\n",
      "Histogram of runtimes after outlier removal:\n"
     ]
    },
    {
     "data": {
      "text/plain": [
       "<matplotlib.axes._subplots.AxesSubplot at 0x232f36ee780>"
      ]
     },
     "execution_count": 23,
     "metadata": {},
     "output_type": "execute_result"
    },
    {
     "data": {
      "image/png": "[encoded data removed]",
      "text/plain": [
       "<Figure size 432x288 with 1 Axes>"
      ]
     },
     "metadata": {},
     "output_type": "display_data"
    }
   ],
   "source": [
    "outlier_indices = df[df['runtime'].apply(lambda x: x>250)].index\n",
    "print(\"Outlier runtime movies percentage: {0:.7f}%\".format(len(outlier_indices)/(len(df)*100.0)))\n",
    "df.drop(outlier_indices, inplace=True)\n",
    "print(\"Histogram of runtimes after outlier removal:\")\n",
    "df['runtime'].hist()"
   ]
  },
  {
   "cell_type": "markdown",
   "metadata": {
    "colab_type": "text",
    "id": "dJTolKCKU4j1"
   },
   "source": [
    "#### 3.2.6 Remove unpopular actors"
   ]
  },
  {
   "cell_type": "markdown",
   "metadata": {},
   "source": [
    "We don't rank actors, who have less than 10 appearances in films.<br>We remove then from the cast list in all movies they appear."
   ]
  },
  {
   "cell_type": "code",
   "execution_count": 24,
   "metadata": {
    "colab": {
     "base_uri": "https://localhost:8080/",
     "height": 54
    },
    "colab_type": "code",
    "id": "rm9doWduU_VH",
    "outputId": "ac9594d2-1e87-49c2-d387-1a2618334655"
   },
   "outputs": [
    {
     "name": "stdout",
     "output_type": "stream",
     "text": [
      "We are left with 2551 actors that have over 10 movies\n"
     ]
    }
   ],
   "source": [
    "all_actors = {}\n",
    "for movie_cast in df['cast']:\n",
    "  for actor in movie_cast:\n",
    "    if actor not in all_actors:\n",
    "      all_actors[actor] = 1\n",
    "    else:\n",
    "      all_actors[actor] = all_actors[actor] + 1\n",
    "\n",
    "popular_actors = []\n",
    "for actor,num_movies in all_actors.items():\n",
    "  if num_movies >= 10:\n",
    "    popular_actors.append(actor)\n",
    "  \n",
    "for i, row in df.iterrows():\n",
    "  movie_cast=row['cast']\n",
    "  movie_cast=[x for x in movie_cast if x in popular_actors]\n",
    "  df.set_value(i,'cast',movie_cast)\n",
    "\n",
    "print(\"We are left with {} actors that have over 10 movies\".format(len(popular_actors)))"
   ]
  },
  {
   "cell_type": "markdown",
   "metadata": {
    "colab_type": "text",
    "id": "p6CKsPi2z9Ph"
   },
   "source": [
    "#### 3.2.7 Define relevant years"
   ]
  },
  {
   "cell_type": "markdown",
   "metadata": {},
   "source": [
    "We are looking at the last 25 years for training / cross validation / test.<br>\n",
    "Remark - for creating the profiles for studios, actors and directors, we use the entire dataset."
   ]
  },
  {
   "cell_type": "code",
   "execution_count": 25,
   "metadata": {
    "colab": {},
    "colab_type": "code",
    "id": "esunTDJv0KYA"
   },
   "outputs": [],
   "source": [
    "start_year = 1993\n",
    "end_year = 2020"
   ]
  },
  {
   "cell_type": "markdown",
   "metadata": {
    "colab_type": "text",
    "id": "ETdlsdHyp8ob"
   },
   "source": [
    "## 4 Data Visualization and Analysis"
   ]
  },
  {
   "cell_type": "markdown",
   "metadata": {
    "colab_type": "text",
    "id": "7uwz3G1kVhqN"
   },
   "source": [
    "### 4.1 Data Visualization"
   ]
  },
  {
   "cell_type": "markdown",
   "metadata": {
    "colab_type": "text",
    "id": "OR0VjOiflU0Y"
   },
   "source": [
    "#### 4.1.1 Number of movies per genre"
   ]
  },
  {
   "cell_type": "code",
   "execution_count": 26,
   "metadata": {
    "colab": {
     "base_uri": "https://localhost:8080/",
     "height": 370
    },
    "colab_type": "code",
    "id": "7YdtWP0cjpK3",
    "outputId": "a51d4c40-3928-4d61-c938-ec01f7db82f3"
   },
   "outputs": [
    {
     "data": {
      "image/png": "[encoded data removed]",
      "text/plain": [
       "<Figure size 864x432 with 1 Axes>"
      ]
     },
     "metadata": {},
     "output_type": "display_data"
    }
   ],
   "source": [
    "data_visualization_and_analysis.high_order_categorical_countplot(df, 'genres')\n",
    "data_visualization_and_analysis.set_graph_labels('Number of movies per genre','Genres','Number Of Movies')\n",
    "plt.xticks(rotation=90)\n",
    "plt.show()"
   ]
  },
  {
   "cell_type": "markdown",
   "metadata": {},
   "source": [
    "#### 4.1.2 Boxplot of movies per genre against Inflation Adjusted Revenue"
   ]
  },
  {
   "cell_type": "code",
   "execution_count": 27,
   "metadata": {},
   "outputs": [
    {
     "data": {
      "image/png": "[encoded data removed]",
      "text/plain": [
       "<Figure size 864x432 with 1 Axes>"
      ]
     },
     "metadata": {},
     "output_type": "display_data"
    }
   ],
   "source": [
    "selected_genres = ['Action', 'Comedy','Drama',  'Romance', 'Science Fiction', 'Animation', 'Documentary']\n",
    "data_visualization_and_analysis.high_order_categorical_boxplot(df, 'genres','revenue_InfAdj',selected_genres)\n",
    "data_visualization_and_analysis.set_graph_labels('Boxplot of movies per genre','Genres','Inflation Adjusted Revenue')\n",
    "plt.show()"
   ]
  },
  {
   "cell_type": "markdown",
   "metadata": {
    "colab_type": "text",
    "id": "01X_wFuhlfBe"
   },
   "source": [
    "#### 4.1.3 Top 20 participating actors"
   ]
  },
  {
   "cell_type": "code",
   "execution_count": 28,
   "metadata": {
    "colab": {
     "base_uri": "https://localhost:8080/",
     "height": 367
    },
    "colab_type": "code",
    "id": "vZySU4P3lfzg",
    "outputId": "a23421d6-fe3d-4203-eb44-ed7527e1de05"
   },
   "outputs": [
    {
     "data": {
      "image/png": "[encoded data removed]",
      "text/plain": [
       "<Figure size 432x288 with 1 Axes>"
      ]
     },
     "metadata": {},
     "output_type": "display_data"
    }
   ],
   "source": [
    "actor_movies_count = pd.Series(data_visualization_and_analysis.counting_values(df, 'cast'))\n",
    "actor_movies_count.sort_values(ascending = False).head(20).plot(kind = 'bar')\n",
    "data_visualization_and_analysis.set_graph_labels('Number of movies per actor','Actor','Number Of Movies')\n",
    "plt.show()"
   ]
  },
  {
   "cell_type": "markdown",
   "metadata": {},
   "source": [
    "#### 4.1.4 Number of movies per actor for selcted actors"
   ]
  },
  {
   "cell_type": "code",
   "execution_count": 29,
   "metadata": {},
   "outputs": [
    {
     "data": {
      "image/png": "[encoded data removed]",
      "text/plain": [
       "<Figure size 864x432 with 1 Axes>"
      ]
     },
     "metadata": {},
     "output_type": "display_data"
    }
   ],
   "source": [
    "selected_actors = ['Nicolas Cage', 'Johnny Depp','Tom Hanks','Robert De Niro','Brad Pitt','Robin Williams','Loretta Devine']\n",
    "data_visualization_and_analysis.high_order_categorical_countplot(df, 'cast',selected_actors)\n",
    "data_visualization_and_analysis.set_graph_labels('Number of movies per actor','Actors','Number Of Movies')\n",
    "plt.show()"
   ]
  },
  {
   "cell_type": "markdown",
   "metadata": {},
   "source": [
    "#### 4.1.5 Boxplot of movies per selcted actor against Inflation Adjusted Revenue"
   ]
  },
  {
   "cell_type": "code",
   "execution_count": 30,
   "metadata": {},
   "outputs": [
    {
     "data": {
      "image/png": "[encoded data removed]",
      "text/plain": [
       "<Figure size 864x432 with 1 Axes>"
      ]
     },
     "metadata": {},
     "output_type": "display_data"
    }
   ],
   "source": [
    "data_visualization_and_analysis.high_order_categorical_boxplot(df, 'cast','revenue_InfAdj',selected_actors)\n",
    "data_visualization_and_analysis.set_graph_labels('Boxplot of movies per actor','Genres','Inflation Adjusted Revenue')\n",
    "plt.show()"
   ]
  },
  {
   "cell_type": "markdown",
   "metadata": {},
   "source": [
    "#### 4.1.6 Number of movies per director for selcted directors\n"
   ]
  },
  {
   "cell_type": "code",
   "execution_count": 31,
   "metadata": {},
   "outputs": [
    {
     "data": {
      "image/png": "[encoded data removed]",
      "text/plain": [
       "<Figure size 864x432 with 1 Axes>"
      ]
     },
     "metadata": {},
     "output_type": "display_data"
    }
   ],
   "source": [
    "selected_directors = ['J.J. Abrams', 'Stanley Kubrick','Quentin Tarantino','Christopher Nolan',\n",
    "                     'Martin Scorsese','George Lucas','Bill Condon']\n",
    "data_visualization_and_analysis.high_order_categorical_countplot(df, 'director',selected_directors)\n",
    "data_visualization_and_analysis.set_graph_labels('Number of movies per director','Directors','Number Of Movies')\n",
    "plt.show()"
   ]
  },
  {
   "cell_type": "markdown",
   "metadata": {},
   "source": [
    "#### 4.1.7 Boxplot of movies per selcted director against Inflation Adjusted Revenue"
   ]
  },
  {
   "cell_type": "code",
   "execution_count": 32,
   "metadata": {},
   "outputs": [
    {
     "data": {
      "image/png": "[encoded data removed]",
      "text/plain": [
       "<Figure size 864x432 with 1 Axes>"
      ]
     },
     "metadata": {},
     "output_type": "display_data"
    }
   ],
   "source": [
    "data_visualization_and_analysis.high_order_categorical_boxplot(df, 'director','revenue_InfAdj',selected_directors,1.75e9)\n",
    "data_visualization_and_analysis.set_graph_labels('Boxplot of movies per director','Directors','Inflation Adjusted Revenue')\n",
    "plt.show()"
   ]
  },
  {
   "cell_type": "markdown",
   "metadata": {},
   "source": [
    "#### 4.1.8 Number of movies per studio for selcted studios\n"
   ]
  },
  {
   "cell_type": "code",
   "execution_count": 33,
   "metadata": {},
   "outputs": [
    {
     "data": {
      "image/png": "[encoded data removed]",
      "text/plain": [
       "<Figure size 864x432 with 1 Axes>"
      ]
     },
     "metadata": {},
     "output_type": "display_data"
    }
   ],
   "source": [
    "selected_studios = ['Marvel Studios', 'Pixar Animation Studios','Lucasfilm','DreamWorks Animation',\n",
    "                     'Universal Pictures','Columbia Pictures','Warner Bros.']\n",
    "data_visualization_and_analysis.high_order_categorical_countplot(df, 'production_companies',selected_studios)\n",
    "data_visualization_and_analysis.set_graph_labels('Number of movies per studio','Studios','Number Of Movies')\n",
    "plt.xticks(rotation=90)\n",
    "plt.show()"
   ]
  },
  {
   "cell_type": "markdown",
   "metadata": {},
   "source": [
    "#### 4.1.9 Boxplot of movies per selcted studio against Inflation Adjusted Revenue"
   ]
  },
  {
   "cell_type": "code",
   "execution_count": 34,
   "metadata": {},
   "outputs": [
    {
     "data": {
      "image/png": "[encoded data removed]",
      "text/plain": [
       "<Figure size 864x432 with 1 Axes>"
      ]
     },
     "metadata": {},
     "output_type": "display_data"
    }
   ],
   "source": [
    "data_visualization_and_analysis.high_order_categorical_boxplot(df, 'production_companies','revenue_InfAdj',selected_studios,1.5e9)\n",
    "data_visualization_and_analysis.set_graph_labels('Boxplot of movies per studio','Studios','Inflation Adjusted Revenue')\n",
    "plt.xticks(rotation=90)\n",
    "plt.show()\n"
   ]
  },
  {
   "cell_type": "markdown",
   "metadata": {
    "colab_type": "text",
    "id": "_sUvx3WdnwSQ"
   },
   "source": [
    "#### 4.1.10 Total revenue per year"
   ]
  },
  {
   "cell_type": "code",
   "execution_count": 35,
   "metadata": {
    "colab": {
     "base_uri": "https://localhost:8080/",
     "height": 314
    },
    "colab_type": "code",
    "id": "niUxM6nTlqtm",
    "outputId": "6ff02bd9-2bc1-4e20-aea8-b41b1ce7fede"
   },
   "outputs": [
    {
     "data": {
      "image/png": "[encoded data removed]",
      "text/plain": [
       "<Figure size 432x288 with 1 Axes>"
      ]
     },
     "metadata": {},
     "output_type": "display_data"
    }
   ],
   "source": [
    "revenue_per_year=df.groupby([\"release_year\"]).sum().sort_values(\"revenue\",ascending=False).revenue\n",
    "revenue_per_year.head(20).plot.bar()\n",
    "data_visualization_and_analysis.set_graph_labels('Total revenue per year','Release Year','Total Revenue')\n",
    "plt.show()"
   ]
  },
  {
   "cell_type": "markdown",
   "metadata": {
    "colab_type": "text",
    "id": "_hKnXillHo6f"
   },
   "source": [
    "#### 4.1.11 Revenue over time"
   ]
  },
  {
   "cell_type": "code",
   "execution_count": 36,
   "metadata": {
    "colab": {
     "base_uri": "https://localhost:8080/",
     "height": 710
    },
    "colab_type": "code",
    "id": "sm7soG36HuEt",
    "outputId": "814db913-2620-4325-e064-ab6839ebf135"
   },
   "outputs": [
    {
     "data": {
      "image/png": "[encoded data removed]",
      "text/plain": [
       "<Figure size 864x432 with 1 Axes>"
      ]
     },
     "metadata": {},
     "output_type": "display_data"
    },
    {
     "data": {
      "image/png": "[encoded data removed]",
      "text/plain": [
       "<Figure size 432x288 with 1 Axes>"
      ]
     },
     "metadata": {},
     "output_type": "display_data"
    }
   ],
   "source": [
    "avg_revenue_per_year=df.groupby([\"release_year\"]).mean().revenue\n",
    "plt.figure(figsize=(12,6))\n",
    "avg_revenue_per_year.plot.bar()\n",
    "data_visualization_and_analysis.set_graph_labels('Average revenue per year','Release Year','Avg. Revenue')\n",
    "plt.show()\n",
    "\n",
    "avg_revenue_per_month=df.groupby([\"release_month\"]).mean().revenue\n",
    "avg_revenue_per_month.plot.bar()\n",
    "data_visualization_and_analysis.set_graph_labels('Average revenue per month','Release Month','Avg. Revenue')\n",
    "plt.show()"
   ]
  },
  {
   "cell_type": "markdown",
   "metadata": {
    "colab_type": "text",
    "id": "jaQ9GBp3ScAP"
   },
   "source": [
    "#### 4.1.12 Boxplot of inflation adjusted revenue by Year for All Movies"
   ]
  },
  {
   "cell_type": "code",
   "execution_count": 37,
   "metadata": {
    "colab": {
     "base_uri": "https://localhost:8080/",
     "height": 458
    },
    "colab_type": "code",
    "id": "j28DFeJsciZC",
    "outputId": "ab6a7c89-e085-4efb-b2c5-4bae41f80576"
   },
   "outputs": [
    {
     "data": {
      "image/png": "[encoded data removed]",
      "text/plain": [
       "<Figure size 1296x432 with 1 Axes>"
      ]
     },
     "metadata": {},
     "output_type": "display_data"
    }
   ],
   "source": [
    "plt.figure(figsize=(18,6))\n",
    "plt.xticks(rotation=90)\n",
    "plt.title(\"Boxplot of inflation adjusted revenue by Year for All Movies\")\n",
    "ax=sns.boxplot(x='release_year', y='revenue_InfAdj', data=df)\n",
    "ax.set_ylim([0, 3e8]);"
   ]
  },
  {
   "cell_type": "markdown",
   "metadata": {
    "colab_type": "text",
    "id": "VIZoHOwlceZx"
   },
   "source": [
    "#### 4.1.13 Number of Movies released on a particular year"
   ]
  },
  {
   "cell_type": "code",
   "execution_count": 38,
   "metadata": {
    "colab": {
     "base_uri": "https://localhost:8080/",
     "height": 476
    },
    "colab_type": "code",
    "id": "BPQCDPBxunSB",
    "outputId": "74848bcd-974c-459c-eefb-5fe5d996804c"
   },
   "outputs": [
    {
     "data": {
      "text/plain": [
       "<matplotlib.axes._subplots.AxesSubplot at 0x232c381da58>"
      ]
     },
     "execution_count": 38,
     "metadata": {},
     "output_type": "execute_result"
    },
    {
     "data": {
      "image/png": "[encoded data removed]",
      "text/plain": [
       "<Figure size 1296x432 with 1 Axes>"
      ]
     },
     "metadata": {},
     "output_type": "display_data"
    }
   ],
   "source": [
    "plt.figure(figsize=(18,6))\n",
    "plt.xticks(rotation=90)\n",
    "plt.title(\"Number of Movies released on a particular year.\")\n",
    "sns.countplot(x='release_year', data=df)"
   ]
  },
  {
   "cell_type": "markdown",
   "metadata": {
    "colab_type": "text",
    "id": "1JrSQqMqck14"
   },
   "source": [
    "#### 4.1.14 Boxplot of revenue by month for all movies"
   ]
  },
  {
   "cell_type": "code",
   "execution_count": 39,
   "metadata": {
    "colab": {
     "base_uri": "https://localhost:8080/",
     "height": 437
    },
    "colab_type": "code",
    "id": "uhks3aEQdG1h",
    "outputId": "390a443f-465c-4658-e4b9-56983aaa4ddc"
   },
   "outputs": [
    {
     "data": {
      "image/png": "[encoded data removed]",
      "text/plain": [
       "<Figure size 864x432 with 1 Axes>"
      ]
     },
     "metadata": {},
     "output_type": "display_data"
    }
   ],
   "source": [
    "plt.figure(figsize=(12,6))\n",
    "plt.title(\"Boxplot of revenue by month for all movies\")\n",
    "ax=sns.boxplot(x='release_month', y='revenue_InfAdj', data=df)\n",
    "ax.set_ylim([0, 3e8]);"
   ]
  },
  {
   "cell_type": "markdown",
   "metadata": {
    "colab_type": "text",
    "id": "-m_JgLKadEAX"
   },
   "source": [
    "#### 4.1.15 Number of Movies released on a particular month"
   ]
  },
  {
   "cell_type": "code",
   "execution_count": 40,
   "metadata": {
    "colab": {
     "base_uri": "https://localhost:8080/",
     "height": 455
    },
    "colab_type": "code",
    "id": "S26r0794u2X4",
    "outputId": "52f5d208-3a6e-480f-a6e0-5f493526eec5"
   },
   "outputs": [
    {
     "data": {
      "text/plain": [
       "<matplotlib.axes._subplots.AxesSubplot at 0x232c36dd748>"
      ]
     },
     "execution_count": 40,
     "metadata": {},
     "output_type": "execute_result"
    },
    {
     "data": {
      "image/png": "[encoded data removed]",
      "text/plain": [
       "<Figure size 864x432 with 1 Axes>"
      ]
     },
     "metadata": {},
     "output_type": "display_data"
    }
   ],
   "source": [
    "plt.figure(figsize=(12,6))\n",
    "plt.title(\"Number of Movies released on a particular month\")\n",
    "sns.countplot(x='release_month', data=df)"
   ]
  },
  {
   "cell_type": "markdown",
   "metadata": {
    "colab_type": "text",
    "id": "1jw0NHdudUiZ"
   },
   "source": [
    "#### 4.1.16 Boxplot of revenue by day for all movies"
   ]
  },
  {
   "cell_type": "code",
   "execution_count": 41,
   "metadata": {
    "colab": {
     "base_uri": "https://localhost:8080/",
     "height": 455
    },
    "colab_type": "code",
    "id": "H26mgbR2dZ_A",
    "outputId": "dc39c474-c80b-4f37-961c-48997849be99"
   },
   "outputs": [
    {
     "data": {
      "text/plain": [
       "(0, 300000000.0)"
      ]
     },
     "execution_count": 41,
     "metadata": {},
     "output_type": "execute_result"
    },
    {
     "data": {
      "image/png": "[encoded data removed]",
      "text/plain": [
       "<Figure size 864x432 with 1 Axes>"
      ]
     },
     "metadata": {},
     "output_type": "display_data"
    }
   ],
   "source": [
    "day_order = ['Sun', 'Mon', 'Tue', 'Wed', 'Thu', 'Fri', 'Sat']\n",
    "plt.figure(figsize=(12,6))\n",
    "plt.title(\"Boxplot of revenue by day for all movies\")\n",
    "ax=sns.boxplot(x='release_day',y='revenue_InfAdj', data=df ,order=day_order)\n",
    "ax.set_ylim([0, 3e8])"
   ]
  },
  {
   "cell_type": "markdown",
   "metadata": {
    "colab_type": "text",
    "id": "Bd1IvieudUwt"
   },
   "source": [
    "#### 4.1.17 Number of movies released on a particular day"
   ]
  },
  {
   "cell_type": "code",
   "execution_count": 42,
   "metadata": {
    "colab": {
     "base_uri": "https://localhost:8080/",
     "height": 455
    },
    "colab_type": "code",
    "id": "_SKFdm3svGwl",
    "outputId": "34027e95-e28b-4d5c-fbc7-3c19dda7544a"
   },
   "outputs": [
    {
     "data": {
      "text/plain": [
       "<matplotlib.axes._subplots.AxesSubplot at 0x232c24deeb8>"
      ]
     },
     "execution_count": 42,
     "metadata": {},
     "output_type": "execute_result"
    },
    {
     "data": {
      "image/png": "[encoded data removed]",
      "text/plain": [
       "<Figure size 864x432 with 1 Axes>"
      ]
     },
     "metadata": {},
     "output_type": "display_data"
    }
   ],
   "source": [
    "plt.figure(figsize=(12,6))\n",
    "plt.title(\"Number of movies released on a particular day\")\n",
    "sns.countplot(x='release_day', data=df, order=day_order)"
   ]
  },
  {
   "cell_type": "markdown",
   "metadata": {
    "colab_type": "text",
    "id": "dNmPLP77Sxhj"
   },
   "source": [
    "### 4.2 Data Statistics"
   ]
  },
  {
   "cell_type": "markdown",
   "metadata": {},
   "source": [
    "We calculate studios, actors, and directors statistics. We will use these statistics later to perform profiling.<br>\n",
    "Therefore, these statistics are calculated for each year - such that according to our definition the statistics only include data acquired until the release year, <b>not including the actual release year and later</b>."
   ]
  },
  {
   "cell_type": "markdown",
   "metadata": {},
   "source": [
    "#### 4.2.1 Statistics overview"
   ]
  },
  {
   "cell_type": "code",
   "execution_count": 43,
   "metadata": {
    "colab": {
     "base_uri": "https://localhost:8080/",
     "height": 287
    },
    "colab_type": "code",
    "id": "i4RZBuAAjpK1",
    "outputId": "c6302b6b-4e22-4a00-fc4c-5ea6713565bb"
   },
   "outputs": [
    {
     "name": "stdout",
     "output_type": "stream",
     "text": [
      "Revenue skewness: 4.931854710809745\n",
      "Revenue kurtosis: 40.97682616880962\n",
      "\n",
      "Statistics overview about the dataset:\n"
     ]
    },
    {
     "data": {
      "text/html": [
       "<div>\n",
       "<style scoped>\n",
       "    .dataframe tbody tr th:only-of-type {\n",
       "        vertical-align: middle;\n",
       "    }\n",
       "\n",
       "    .dataframe tbody tr th {\n",
       "        vertical-align: top;\n",
       "    }\n",
       "\n",
       "    .dataframe thead th {\n",
       "        text-align: right;\n",
       "    }\n",
       "</style>\n",
       "<table border=\"1\" class=\"dataframe\">\n",
       "  <thead>\n",
       "    <tr style=\"text-align: right;\">\n",
       "      <th></th>\n",
       "      <th>release_year</th>\n",
       "      <th>release_month</th>\n",
       "      <th>runtime</th>\n",
       "      <th>budget</th>\n",
       "      <th>revenue</th>\n",
       "      <th>vote_average</th>\n",
       "      <th>avg_rating</th>\n",
       "      <th>budget_InfAdj</th>\n",
       "      <th>revenue_InfAdj</th>\n",
       "    </tr>\n",
       "  </thead>\n",
       "  <tbody>\n",
       "    <tr>\n",
       "      <th>count</th>\n",
       "      <td>5505.000000</td>\n",
       "      <td>5505.000000</td>\n",
       "      <td>5505.000000</td>\n",
       "      <td>5.505000e+03</td>\n",
       "      <td>5.505000e+03</td>\n",
       "      <td>5505.000000</td>\n",
       "      <td>5505.000000</td>\n",
       "      <td>5.505000e+03</td>\n",
       "      <td>5.505000e+03</td>\n",
       "    </tr>\n",
       "    <tr>\n",
       "      <th>mean</th>\n",
       "      <td>2002.312625</td>\n",
       "      <td>6.670481</td>\n",
       "      <td>109.830012</td>\n",
       "      <td>3.315671e+07</td>\n",
       "      <td>9.719777e+07</td>\n",
       "      <td>6.358601</td>\n",
       "      <td>-0.466367</td>\n",
       "      <td>4.365663e+07</td>\n",
       "      <td>1.335440e+08</td>\n",
       "    </tr>\n",
       "    <tr>\n",
       "      <th>std</th>\n",
       "      <td>12.124213</td>\n",
       "      <td>3.454497</td>\n",
       "      <td>20.243916</td>\n",
       "      <td>4.059528e+07</td>\n",
       "      <td>1.780542e+08</td>\n",
       "      <td>0.976485</td>\n",
       "      <td>1.411116</td>\n",
       "      <td>4.836286e+07</td>\n",
       "      <td>2.304251e+08</td>\n",
       "    </tr>\n",
       "    <tr>\n",
       "      <th>min</th>\n",
       "      <td>1960.000000</td>\n",
       "      <td>1.000000</td>\n",
       "      <td>26.000000</td>\n",
       "      <td>1.000000e+00</td>\n",
       "      <td>1.000000e+00</td>\n",
       "      <td>0.000000</td>\n",
       "      <td>-1.000000</td>\n",
       "      <td>1.030000e+00</td>\n",
       "      <td>1.030000e+00</td>\n",
       "    </tr>\n",
       "    <tr>\n",
       "      <th>25%</th>\n",
       "      <td>1996.000000</td>\n",
       "      <td>4.000000</td>\n",
       "      <td>96.000000</td>\n",
       "      <td>7.000000e+06</td>\n",
       "      <td>9.448082e+06</td>\n",
       "      <td>5.800000</td>\n",
       "      <td>-1.000000</td>\n",
       "      <td>1.067622e+07</td>\n",
       "      <td>1.317060e+07</td>\n",
       "    </tr>\n",
       "    <tr>\n",
       "      <th>50%</th>\n",
       "      <td>2005.000000</td>\n",
       "      <td>7.000000</td>\n",
       "      <td>106.000000</td>\n",
       "      <td>1.900000e+07</td>\n",
       "      <td>3.458627e+07</td>\n",
       "      <td>6.400000</td>\n",
       "      <td>-1.000000</td>\n",
       "      <td>2.725444e+07</td>\n",
       "      <td>5.187032e+07</td>\n",
       "    </tr>\n",
       "    <tr>\n",
       "      <th>75%</th>\n",
       "      <td>2011.000000</td>\n",
       "      <td>10.000000</td>\n",
       "      <td>120.000000</td>\n",
       "      <td>4.000000e+07</td>\n",
       "      <td>1.060313e+08</td>\n",
       "      <td>7.000000</td>\n",
       "      <td>-1.000000</td>\n",
       "      <td>5.898915e+07</td>\n",
       "      <td>1.539323e+08</td>\n",
       "    </tr>\n",
       "    <tr>\n",
       "      <th>max</th>\n",
       "      <td>2019.000000</td>\n",
       "      <td>12.000000</td>\n",
       "      <td>248.000000</td>\n",
       "      <td>3.210000e+08</td>\n",
       "      <td>2.905059e+09</td>\n",
       "      <td>9.300000</td>\n",
       "      <td>4.500000</td>\n",
       "      <td>6.482501e+08</td>\n",
       "      <td>3.288303e+09</td>\n",
       "    </tr>\n",
       "  </tbody>\n",
       "</table>\n",
       "</div>"
      ],
      "text/plain": [
       "       release_year  release_month      runtime        budget       revenue  \\\n",
       "count   5505.000000    5505.000000  5505.000000  5.505000e+03  5.505000e+03   \n",
       "mean    2002.312625       6.670481   109.830012  3.315671e+07  9.719777e+07   \n",
       "std       12.124213       3.454497    20.243916  4.059528e+07  1.780542e+08   \n",
       "min     1960.000000       1.000000    26.000000  1.000000e+00  1.000000e+00   \n",
       "25%     1996.000000       4.000000    96.000000  7.000000e+06  9.448082e+06   \n",
       "50%     2005.000000       7.000000   106.000000  1.900000e+07  3.458627e+07   \n",
       "75%     2011.000000      10.000000   120.000000  4.000000e+07  1.060313e+08   \n",
       "max     2019.000000      12.000000   248.000000  3.210000e+08  2.905059e+09   \n",
       "\n",
       "       vote_average   avg_rating  budget_InfAdj  revenue_InfAdj  \n",
       "count   5505.000000  5505.000000   5.505000e+03    5.505000e+03  \n",
       "mean       6.358601    -0.466367   4.365663e+07    1.335440e+08  \n",
       "std        0.976485     1.411116   4.836286e+07    2.304251e+08  \n",
       "min        0.000000    -1.000000   1.030000e+00    1.030000e+00  \n",
       "25%        5.800000    -1.000000   1.067622e+07    1.317060e+07  \n",
       "50%        6.400000    -1.000000   2.725444e+07    5.187032e+07  \n",
       "75%        7.000000    -1.000000   5.898915e+07    1.539323e+08  \n",
       "max        9.300000     4.500000   6.482501e+08    3.288303e+09  "
      ]
     },
     "metadata": {},
     "output_type": "display_data"
    }
   ],
   "source": [
    "print(\"Revenue skewness: {}\".format(df[\"revenue\"].skew()))\n",
    "print(\"Revenue kurtosis: {}\".format(df[\"revenue\"].kurt()))\n",
    "print(\"\")\n",
    "print(\"Statistics overview about the dataset:\")\n",
    "display(df.describe())"
   ]
  },
  {
   "cell_type": "markdown",
   "metadata": {
    "colab_type": "text",
    "id": "0aXcIddIXaQy"
   },
   "source": [
    "#### 4.2.2 Studios statistics"
   ]
  },
  {
   "cell_type": "markdown",
   "metadata": {},
   "source": [
    "For each studio we calculate - total revenue, average revenue, and number of movies."
   ]
  },
  {
   "cell_type": "code",
   "execution_count": 44,
   "metadata": {
    "colab": {
     "base_uri": "https://localhost:8080/",
     "height": 365
    },
    "colab_type": "code",
    "id": "S5Cu_6VpXauq",
    "outputId": "d57b0f19-2077-4193-d5ba-43a372c57e72"
   },
   "outputs": [
    {
     "name": "stdout",
     "output_type": "stream",
     "text": [
      "Top earning studios:\n"
     ]
    },
    {
     "data": {
      "text/html": [
       "<div>\n",
       "<style scoped>\n",
       "    .dataframe tbody tr th:only-of-type {\n",
       "        vertical-align: middle;\n",
       "    }\n",
       "\n",
       "    .dataframe tbody tr th {\n",
       "        vertical-align: top;\n",
       "    }\n",
       "\n",
       "    .dataframe thead th {\n",
       "        text-align: right;\n",
       "    }\n",
       "</style>\n",
       "<table border=\"1\" class=\"dataframe\">\n",
       "  <thead>\n",
       "    <tr style=\"text-align: right;\">\n",
       "      <th></th>\n",
       "      <th>Total</th>\n",
       "      <th>Average</th>\n",
       "      <th>Number</th>\n",
       "    </tr>\n",
       "  </thead>\n",
       "  <tbody>\n",
       "    <tr>\n",
       "      <th>Warner Bros.</th>\n",
       "      <td>9.099282e+10</td>\n",
       "      <td>2.151130e+08</td>\n",
       "      <td>423</td>\n",
       "    </tr>\n",
       "    <tr>\n",
       "      <th>Universal Pictures</th>\n",
       "      <td>8.472591e+10</td>\n",
       "      <td>2.036681e+08</td>\n",
       "      <td>416</td>\n",
       "    </tr>\n",
       "    <tr>\n",
       "      <th>Paramount Pictures</th>\n",
       "      <td>7.389377e+10</td>\n",
       "      <td>2.212388e+08</td>\n",
       "      <td>334</td>\n",
       "    </tr>\n",
       "    <tr>\n",
       "      <th>Walt Disney Pictures</th>\n",
       "      <td>7.077025e+10</td>\n",
       "      <td>4.138611e+08</td>\n",
       "      <td>171</td>\n",
       "    </tr>\n",
       "    <tr>\n",
       "      <th>Columbia Pictures Corporation</th>\n",
       "      <td>5.473674e+10</td>\n",
       "      <td>2.050065e+08</td>\n",
       "      <td>267</td>\n",
       "    </tr>\n",
       "    <tr>\n",
       "      <th>Twentieth Century Fox</th>\n",
       "      <td>5.068342e+10</td>\n",
       "      <td>2.929677e+08</td>\n",
       "      <td>173</td>\n",
       "    </tr>\n",
       "    <tr>\n",
       "      <th>New Line Cinema</th>\n",
       "      <td>3.028428e+10</td>\n",
       "      <td>1.593909e+08</td>\n",
       "      <td>190</td>\n",
       "    </tr>\n",
       "    <tr>\n",
       "      <th>Amblin Entertainment</th>\n",
       "      <td>2.874329e+10</td>\n",
       "      <td>4.422045e+08</td>\n",
       "      <td>65</td>\n",
       "    </tr>\n",
       "    <tr>\n",
       "      <th>DreamWorks</th>\n",
       "      <td>2.497060e+10</td>\n",
       "      <td>2.448098e+08</td>\n",
       "      <td>102</td>\n",
       "    </tr>\n",
       "    <tr>\n",
       "      <th>United Artists</th>\n",
       "      <td>2.412376e+10</td>\n",
       "      <td>2.461608e+08</td>\n",
       "      <td>98</td>\n",
       "    </tr>\n",
       "  </tbody>\n",
       "</table>\n",
       "</div>"
      ],
      "text/plain": [
       "                                      Total       Average  Number\n",
       "Warner Bros.                   9.099282e+10  2.151130e+08     423\n",
       "Universal Pictures             8.472591e+10  2.036681e+08     416\n",
       "Paramount Pictures             7.389377e+10  2.212388e+08     334\n",
       "Walt Disney Pictures           7.077025e+10  4.138611e+08     171\n",
       "Columbia Pictures Corporation  5.473674e+10  2.050065e+08     267\n",
       "Twentieth Century Fox          5.068342e+10  2.929677e+08     173\n",
       "New Line Cinema                3.028428e+10  1.593909e+08     190\n",
       "Amblin Entertainment           2.874329e+10  4.422045e+08      65\n",
       "DreamWorks                     2.497060e+10  2.448098e+08     102\n",
       "United Artists                 2.412376e+10  2.461608e+08      98"
      ]
     },
     "metadata": {},
     "output_type": "display_data"
    }
   ],
   "source": [
    "com_pivot_per_year = {}\n",
    "\n",
    "for i in range(start_year,end_year):\n",
    "  df_copy = df[df.release_year<i].copy()\n",
    "  s = df_copy.apply(lambda x: pd.Series(x['production_companies']),axis=1).stack().reset_index(level=1, drop=True)\n",
    "  s.name = 'companies'\n",
    "\n",
    "  com_df = df_copy.drop('production_companies', axis=1).join(s)\n",
    "\n",
    "  com_sum = pd.DataFrame(com_df.groupby('companies')['revenue_InfAdj'].sum().sort_values(ascending=False))\n",
    "  com_sum.columns = ['Total']\n",
    "  com_mean = pd.DataFrame(com_df.groupby('companies')['revenue_InfAdj'].mean().sort_values(ascending=False))\n",
    "  com_mean.columns = ['Average']\n",
    "  com_count = pd.DataFrame(com_df.groupby('companies')['revenue_InfAdj'].count().sort_values(ascending=False))\n",
    "  com_count.columns = ['Number']\n",
    "\n",
    "  com_pivot = pd.concat((com_sum, com_mean, com_count), axis=1)\n",
    "  com_pivot_per_year[i] = com_pivot\n",
    "  \n",
    "print(\"Top earning studios:\")\n",
    "display(com_pivot.sort_values('Total', ascending=False).head(10))"
   ]
  },
  {
   "cell_type": "markdown",
   "metadata": {
    "colab_type": "text",
    "id": "hCrE9lBr8iGC"
   },
   "source": [
    "#### 4.2.3 Directors statistics"
   ]
  },
  {
   "cell_type": "markdown",
   "metadata": {},
   "source": [
    "For each director we calculate - total revenue, average revenue, number of movies, imdb vote average, imdb average rating, number of votes, number of ratings."
   ]
  },
  {
   "cell_type": "code",
   "execution_count": 45,
   "metadata": {
    "colab": {
     "base_uri": "https://localhost:8080/",
     "height": 678
    },
    "colab_type": "code",
    "id": "GwzwXlFg8hLX",
    "outputId": "82ac81bb-9ff9-4cdb-908c-3979262499bb"
   },
   "outputs": [
    {
     "name": "stdout",
     "output_type": "stream",
     "text": [
      "Top 5 directors sorted by vote average:\n"
     ]
    },
    {
     "data": {
      "text/plain": [
       "Christopher Nolan    8.240000\n",
       "Lee Unkrich          8.160000\n",
       "Hayao Miyazaki       7.971429\n",
       "Denis Villeneuve     7.960000\n",
       "Quentin Tarantino    7.830000\n",
       "Name: Vote_average, dtype: float64"
      ]
     },
     "metadata": {},
     "output_type": "display_data"
    },
    {
     "name": "stdout",
     "output_type": "stream",
     "text": [
      "Top 5 directors sorted by average rating:\n"
     ]
    },
    {
     "data": {
      "text/plain": [
       "John Carpenter      3.536443\n",
       "David Lynch         3.528900\n",
       "David Cronenberg    3.487091\n",
       "Alfred Hitchcock    3.427003\n",
       "Richard Donner      3.358877\n",
       "Name: Avg_rating, dtype: float64"
      ]
     },
     "metadata": {},
     "output_type": "display_data"
    }
   ],
   "source": [
    "dir_pivot_con_per_year = {}\n",
    "\n",
    "for i in range(start_year,end_year):\n",
    "  df_copy2 = df[df.release_year<i].copy()\n",
    "  s2 = df_copy2.apply(lambda x: pd.Series(x['director']),axis=1).stack().reset_index(level=1, drop=True)\n",
    "  s2.name = 'directors'\n",
    "\n",
    "  dir_df = df_copy2.drop('director', axis=1).join(s2)\n",
    "\n",
    "  dir_sum = pd.DataFrame(dir_df.groupby('directors')['revenue_InfAdj'].sum().sort_values(ascending=False))\n",
    "  dir_sum.columns = ['Total']\n",
    "  dir_mean = pd.DataFrame(dir_df.groupby('directors')['revenue_InfAdj'].mean().sort_values(ascending=False))\n",
    "  dir_mean.columns = ['Average']\n",
    "  dir_count = pd.DataFrame(dir_df.groupby('directors')['revenue_InfAdj'].count().sort_values(ascending=False))\n",
    "  dir_count.columns = ['Number']\n",
    "\n",
    "  dir_pivot = pd.concat((dir_sum, dir_mean, dir_count), axis=1)\n",
    "\n",
    "  dir_vote = pd.DataFrame(dir_df[dir_df['vote_average'] >= 0].groupby('directors')['vote_average'].mean().sort_values(ascending=False))\n",
    "  dir_vote.columns = ['Vote_average']\n",
    "  dir_rating = pd.DataFrame(dir_df[dir_df['avg_rating'] >= 0].groupby('directors')['avg_rating'].mean().sort_values(ascending=False))\n",
    "  dir_rating.columns = ['Avg_rating']\n",
    "  dir_vote_count = pd.DataFrame(dir_df[dir_df['vote_average'] >= 0].groupby('directors')['vote_average'].count().sort_values(ascending=False))\n",
    "  dir_vote_count.columns = ['Number_vote']\n",
    "  dir_rating_count = pd.DataFrame(dir_df[dir_df['avg_rating'] >= 0].groupby('directors')['avg_rating'].count().sort_values(ascending=False))\n",
    "  dir_rating_count.columns = ['Number_rating']\n",
    "\n",
    "  dir_pivot_rating = pd.concat((dir_vote, dir_vote_count, dir_rating, dir_rating_count), axis=1)\n",
    "  dir_pivot_con = pd.concat([dir_pivot, dir_pivot_rating], axis=1)\n",
    "  dir_pivot_con_per_year[i] = dir_pivot_con\n",
    "\n",
    "print(\"Top 5 directors sorted by vote average:\")\n",
    "display(dir_pivot_rating[dir_pivot_rating['Number_vote'] >= 5].sort_values('Vote_average', ascending=False).head(5)['Vote_average'])\n",
    "\n",
    "print(\"Top 5 directors sorted by average rating:\")\n",
    "display(dir_pivot_rating[dir_pivot_rating['Number_rating'] >= 5].sort_values('Avg_rating', ascending=False).head(5)['Avg_rating'])"
   ]
  },
  {
   "cell_type": "markdown",
   "metadata": {
    "colab_type": "text",
    "id": "jRg9LiLtSL4I"
   },
   "source": [
    "#### 4.2.4 Actors statistics"
   ]
  },
  {
   "cell_type": "markdown",
   "metadata": {},
   "source": [
    "For each actor we calculate - total revenue, average revenue, number of movies, imdb vote average, imdb average rating, number of votes, number of ratings."
   ]
  },
  {
   "cell_type": "code",
   "execution_count": 46,
   "metadata": {
    "colab": {
     "base_uri": "https://localhost:8080/",
     "height": 678
    },
    "colab_type": "code",
    "id": "jLv6wpu1SMQ7",
    "outputId": "e18e874a-2909-47ee-c92a-12aab4dc7a4a",
    "scrolled": true
   },
   "outputs": [
    {
     "name": "stdout",
     "output_type": "stream",
     "text": [
      "Top 5 actors sorted by vote average:\n"
     ]
    },
    {
     "data": {
      "text/plain": [
       "Ben Key          7.820000\n",
       "Peter Jackson    7.810000\n",
       "Paul Bateman     7.718182\n",
       "Jed Brophy       7.690909\n",
       "Tommy Dallace    7.645455\n",
       "Name: Vote_average, dtype: float64"
      ]
     },
     "metadata": {},
     "output_type": "display_data"
    },
    {
     "name": "stdout",
     "output_type": "stream",
     "text": [
      "Top 5 actors sorted by average rating:\n"
     ]
    },
    {
     "data": {
      "text/plain": [
       "Al Leong              3.650396\n",
       "Dennis Hopper         3.637462\n",
       "Anthony Hopkins       3.594719\n",
       "Michael Caine         3.578099\n",
       "Mary Ellen Trainor    3.563939\n",
       "Name: Avg_rating, dtype: float64"
      ]
     },
     "metadata": {},
     "output_type": "display_data"
    }
   ],
   "source": [
    "act_pivot_rating_per_year = {}\n",
    "\n",
    "for i in range(start_year,end_year):\n",
    "  df_copy3 = df[df.release_year<i].copy()\n",
    "  s3 = df_copy3.apply(lambda x: pd.Series(x['cast']),axis=1).stack().reset_index(level=1, drop=True)\n",
    "  s3.name = 'actors'\n",
    "\n",
    "  act_df = df_copy3.drop('cast', axis=1).join(s3)\n",
    "\n",
    "  act_sum = pd.DataFrame(act_df.groupby('actors')['revenue_InfAdj'].sum().sort_values(ascending=False))\n",
    "  act_sum.columns = ['Total']\n",
    "  act_mean = pd.DataFrame(act_df.groupby('actors')['revenue_InfAdj'].mean().sort_values(ascending=False))\n",
    "  act_mean.columns = ['Average']\n",
    "  act_count = pd.DataFrame(act_df.groupby('actors')['revenue_InfAdj'].count().sort_values(ascending=False))\n",
    "  act_count.columns = ['Number']\n",
    "\n",
    "  act_pivot = pd.concat((act_sum, act_mean, act_count), axis=1)\n",
    "\n",
    "  act_vote = pd.DataFrame(act_df[act_df['vote_average'] >= 0].groupby('actors')['vote_average'].mean().sort_values(ascending=False))\n",
    "  act_vote.columns = ['Vote_average']\n",
    "  act_rating = pd.DataFrame(act_df[act_df['avg_rating'] >= 0].groupby('actors')['avg_rating'].mean().sort_values(ascending=False))\n",
    "  act_rating.columns = ['Avg_rating']\n",
    "  act_vote_count = pd.DataFrame(act_df[act_df['vote_average'] >= 0].groupby('actors')['vote_average'].count().sort_values(ascending=False))\n",
    "  act_vote_count.columns = ['Number_vote']\n",
    "  act_rating_count = pd.DataFrame(act_df[act_df['avg_rating'] >= 0].groupby('actors')['avg_rating'].count().sort_values(ascending=False))\n",
    "  act_rating_count.columns = ['Number_rating']\n",
    "\n",
    "  act_pivot_rating = pd.concat((act_vote, act_vote_count, act_rating, act_rating_count), axis=1)\n",
    "  act_pivot_con = pd.concat([act_pivot, act_pivot_rating], axis=1)\n",
    "  act_pivot_rating_per_year[i] = act_pivot_con\n",
    "  \n",
    "print(\"Top 5 actors sorted by vote average:\")\n",
    "display(act_pivot_rating[act_pivot_rating['Number_vote'] >= 5].sort_values('Vote_average', ascending=False).head(5)['Vote_average'])\n",
    "\n",
    "print(\"Top 5 actors sorted by average rating:\")\n",
    "display(act_pivot_rating[act_pivot_rating['Number_rating'] >= 5].sort_values('Avg_rating', ascending=False).head(5)['Avg_rating'])"
   ]
  },
  {
   "cell_type": "markdown",
   "metadata": {
    "colab_type": "text",
    "id": "GsN0EdGKsjmx"
   },
   "source": [
    "## 5 Feature Engineering"
   ]
  },
  {
   "cell_type": "markdown",
   "metadata": {
    "colab_type": "text",
    "id": "HpUvhsmOTKsX"
   },
   "source": [
    "### 5.1 Extracting relevant years"
   ]
  },
  {
   "cell_type": "markdown",
   "metadata": {},
   "source": [
    "After the statistics are calculated, we only keep the last 25 years data."
   ]
  },
  {
   "cell_type": "code",
   "execution_count": 47,
   "metadata": {
    "colab": {},
    "colab_type": "code",
    "id": "yU9gApbfsrtG"
   },
   "outputs": [],
   "source": [
    "df=df[df.release_year>start_year]\n",
    "df.reset_index(drop=True, inplace=True)"
   ]
  },
  {
   "cell_type": "markdown",
   "metadata": {
    "colab_type": "text",
    "id": "4hrMuuSUX_oH"
   },
   "source": [
    "### 5.2 Profiling"
   ]
  },
  {
   "cell_type": "markdown",
   "metadata": {},
   "source": [
    "We use the statistics calculated in 4.2 to create studios, actors and directors profiles."
   ]
  },
  {
   "cell_type": "markdown",
   "metadata": {
    "colab_type": "text",
    "id": "FC5lx3HuYI3W"
   },
   "source": [
    "#### 5.2.1 Studios"
   ]
  },
  {
   "cell_type": "markdown",
   "metadata": {},
   "source": [
    "\n",
    "We calculate the studio ranking using a weighted average using the formula: min(average rating,8e8)/1e8 + min(number of movies,40)/20.<br>\n",
    "This gives us a ranking from 0-10 for each studio.\n",
    "<br>Each studio score is calculated based on information only on movies released in the past so there is no leakage"
   ]
  },
  {
   "cell_type": "code",
   "execution_count": 48,
   "metadata": {
    "colab": {},
    "colab_type": "code",
    "id": "A-3ihkTmYAIi"
   },
   "outputs": [],
   "source": [
    "studios_profiles_per_year = {}\n",
    "for year in range(start_year,end_year):\n",
    "  studios_profiles = {}\n",
    "  for studio,row in com_pivot_per_year[year].iterrows():\n",
    "    studios_profiles[studio] = (min(row['Number'], 40)/20) + (min(row['Average'], 8e8)/1e8)\n",
    "  studios_profiles_per_year[year] = studios_profiles"
   ]
  },
  {
   "cell_type": "code",
   "execution_count": 49,
   "metadata": {
    "colab": {
     "base_uri": "https://localhost:8080/",
     "height": 296
    },
    "colab_type": "code",
    "id": "V0eZHCAAYfzn",
    "outputId": "ec0bf82a-3225-4848-85bd-a20574e13ae0"
   },
   "outputs": [
    {
     "name": "stdout",
     "output_type": "stream",
     "text": [
      "Example studio rankings:\n"
     ]
    },
    {
     "data": {
      "text/html": [
       "<div>\n",
       "<style scoped>\n",
       "    .dataframe tbody tr th:only-of-type {\n",
       "        vertical-align: middle;\n",
       "    }\n",
       "\n",
       "    .dataframe tbody tr th {\n",
       "        vertical-align: top;\n",
       "    }\n",
       "\n",
       "    .dataframe thead th {\n",
       "        text-align: right;\n",
       "    }\n",
       "</style>\n",
       "<table border=\"1\" class=\"dataframe\">\n",
       "  <thead>\n",
       "    <tr style=\"text-align: right;\">\n",
       "      <th></th>\n",
       "      <th>original_title</th>\n",
       "      <th>production_companies</th>\n",
       "      <th>revenue_InfAdj</th>\n",
       "    </tr>\n",
       "  </thead>\n",
       "  <tbody>\n",
       "    <tr>\n",
       "      <th>0</th>\n",
       "      <td>Sudden Death</td>\n",
       "      <td>3.9518</td>\n",
       "      <td>1.035119e+08</td>\n",
       "    </tr>\n",
       "    <tr>\n",
       "      <th>1</th>\n",
       "      <td>The American President</td>\n",
       "      <td>3.89527</td>\n",
       "      <td>1.735320e+08</td>\n",
       "    </tr>\n",
       "    <tr>\n",
       "      <th>2</th>\n",
       "      <td>Cutthroat Island</td>\n",
       "      <td>4.21954</td>\n",
       "      <td>1.611358e+07</td>\n",
       "    </tr>\n",
       "    <tr>\n",
       "      <th>3</th>\n",
       "      <td>Casino</td>\n",
       "      <td>4.03961</td>\n",
       "      <td>1.867751e+08</td>\n",
       "    </tr>\n",
       "    <tr>\n",
       "      <th>4</th>\n",
       "      <td>Four Rooms</td>\n",
       "      <td>3.88072</td>\n",
       "      <td>6.916860e+06</td>\n",
       "    </tr>\n",
       "  </tbody>\n",
       "</table>\n",
       "</div>"
      ],
      "text/plain": [
       "           original_title production_companies  revenue_InfAdj\n",
       "0            Sudden Death               3.9518    1.035119e+08\n",
       "1  The American President              3.89527    1.735320e+08\n",
       "2        Cutthroat Island              4.21954    1.611358e+07\n",
       "3                  Casino              4.03961    1.867751e+08\n",
       "4              Four Rooms              3.88072    6.916860e+06"
      ]
     },
     "metadata": {},
     "output_type": "display_data"
    }
   ],
   "source": [
    "for i, row in df.iterrows():\n",
    "  movie_prod = row['production_companies']\n",
    "  prod_profiled = []\n",
    "  for x in movie_prod:\n",
    "    if x in studios_profiles_per_year[row['release_year']]:\n",
    "      prod_profiled.append(studios_profiles_per_year[row['release_year']][x])\n",
    "  if not prod_profiled:\n",
    "    prod_profiled.append(0)\n",
    "  movie_prod = prod_profiled\n",
    "  \n",
    "  if len(movie_prod) > 1:\n",
    "    movie_prod = np.amax(movie_prod) + (np.sum(movie_prod) - np.amax(movie_prod))/len(movie_prod)\n",
    "  else:\n",
    "    movie_prod = np.amax(movie_prod)\n",
    "\n",
    "  df.set_value(i,'production_companies',movie_prod)\n",
    "\n",
    "print(\"Example studio rankings:\")\n",
    "display(df[['original_title', 'production_companies', 'revenue_InfAdj']].head(5))\n",
    "    \n",
    "df['production_companies']= df['production_companies'].astype(np.float)"
   ]
  },
  {
   "cell_type": "markdown",
   "metadata": {
    "colab_type": "text",
    "id": "UCzv-5l9iBeI"
   },
   "source": [
    "#### 5.2.2 Directors"
   ]
  },
  {
   "cell_type": "markdown",
   "metadata": {},
   "source": [
    "We calculate the director ranking using a weighted average using the formula: min(average,5e8)/83e6 + min(number of movies,10)/10 + min(vote,8)/4 + min(rating,4)/4.<br>\n",
    "This gives us a ranking from 0-10 for each director.\n",
    "<br>Each director score is calculated based on information only on movies released in the past so there is no leakage"
   ]
  },
  {
   "cell_type": "code",
   "execution_count": 50,
   "metadata": {
    "colab": {
     "base_uri": "https://localhost:8080/",
     "height": 137
    },
    "colab_type": "code",
    "id": "igShCH0xiA5r",
    "outputId": "e57f94a9-ef2a-4334-c702-367207439034"
   },
   "outputs": [],
   "source": [
    "directors_profiles_per_year = {}\n",
    "for year in range(start_year,end_year):\n",
    "  directors_profiles = {}\n",
    "  for director,row in dir_pivot_con_per_year[year].iterrows():\n",
    "    if not np.isnan(row['Vote_average']) and row['Number_vote'] >=3:\n",
    "      vote = row['Vote_average']\n",
    "    else:\n",
    "      vote = 0\n",
    "    if not np.isnan(row['Avg_rating']) and row['Number_rating'] >=3:\n",
    "      rating = row['Avg_rating']\n",
    "    else:\n",
    "      rating = 0\n",
    "    directors_profiles[director] = (min(row['Number'], 10)/10) + (min(row['Average'], 5e8)/83e6) + (min(vote, 8)/4) + (min(rating, 4)/4)\n",
    "  \n",
    "  directors_profiles_per_year[year] = directors_profiles"
   ]
  },
  {
   "cell_type": "code",
   "execution_count": 51,
   "metadata": {
    "colab": {
     "base_uri": "https://localhost:8080/",
     "height": 314
    },
    "colab_type": "code",
    "id": "QQnyVX72DBnQ",
    "outputId": "57fdcbbe-9b72-4f46-b704-3577205204ae"
   },
   "outputs": [
    {
     "name": "stdout",
     "output_type": "stream",
     "text": [
      "Example director rankings:\n"
     ]
    },
    {
     "data": {
      "text/html": [
       "<div>\n",
       "<style scoped>\n",
       "    .dataframe tbody tr th:only-of-type {\n",
       "        vertical-align: middle;\n",
       "    }\n",
       "\n",
       "    .dataframe tbody tr th {\n",
       "        vertical-align: top;\n",
       "    }\n",
       "\n",
       "    .dataframe thead th {\n",
       "        text-align: right;\n",
       "    }\n",
       "</style>\n",
       "<table border=\"1\" class=\"dataframe\">\n",
       "  <thead>\n",
       "    <tr style=\"text-align: right;\">\n",
       "      <th></th>\n",
       "      <th>original_title</th>\n",
       "      <th>director</th>\n",
       "    </tr>\n",
       "  </thead>\n",
       "  <tbody>\n",
       "    <tr>\n",
       "      <th>0</th>\n",
       "      <td>Sudden Death</td>\n",
       "      <td>2.92851</td>\n",
       "    </tr>\n",
       "    <tr>\n",
       "      <th>1</th>\n",
       "      <td>The American President</td>\n",
       "      <td>5.20519</td>\n",
       "    </tr>\n",
       "    <tr>\n",
       "      <th>2</th>\n",
       "      <td>Cutthroat Island</td>\n",
       "      <td>4.35045</td>\n",
       "    </tr>\n",
       "    <tr>\n",
       "      <th>3</th>\n",
       "      <td>Casino</td>\n",
       "      <td>4.48035</td>\n",
       "    </tr>\n",
       "    <tr>\n",
       "      <th>4</th>\n",
       "      <td>Four Rooms</td>\n",
       "      <td>2.48545</td>\n",
       "    </tr>\n",
       "  </tbody>\n",
       "</table>\n",
       "</div>"
      ],
      "text/plain": [
       "           original_title director\n",
       "0            Sudden Death  2.92851\n",
       "1  The American President  5.20519\n",
       "2        Cutthroat Island  4.35045\n",
       "3                  Casino  4.48035\n",
       "4              Four Rooms  2.48545"
      ]
     },
     "metadata": {},
     "output_type": "display_data"
    }
   ],
   "source": [
    "for i, row in df.iterrows():\n",
    "  movie_dir = row['director']\n",
    "  dir_profiled = []\n",
    "  for x in movie_dir:\n",
    "    if x in directors_profiles_per_year[row['release_year']]:\n",
    "      dir_profiled.append(directors_profiles_per_year[row['release_year']][x])\n",
    "  if not dir_profiled:\n",
    "    dir_profiled.append(0)\n",
    "  movie_dir = dir_profiled\n",
    "  \n",
    "  movie_dir = np.amax(movie_dir)\n",
    "  df.set_value(i,'director',movie_dir)\n",
    "  \n",
    "print(\"Example director rankings:\")\n",
    "display(df[['original_title', 'director']].head(5))\n",
    "\n",
    "df['director']= df['director'].astype(np.float)"
   ]
  },
  {
   "cell_type": "markdown",
   "metadata": {
    "colab_type": "text",
    "id": "EDrDAryC5kpE"
   },
   "source": [
    "#### 5.2.3 Actors"
   ]
  },
  {
   "cell_type": "markdown",
   "metadata": {},
   "source": [
    "We calculate the actor ranking using a weighted average using the formula: min(average,6e8)/1e8 + min(number of movies,40)/40 + min(number of votes,7)/3.5 + min(rating,3.5)/3.5.<br>\n",
    "This gives us a ranking from 0-10 for each actor.\n",
    "<br>Each actor score is calculated based on information only on movies released in the past so there is no leakage"
   ]
  },
  {
   "cell_type": "code",
   "execution_count": 52,
   "metadata": {
    "colab": {
     "base_uri": "https://localhost:8080/",
     "height": 137
    },
    "colab_type": "code",
    "id": "nlQaXeAE5k6M",
    "outputId": "257e24bc-18e1-4219-bc2b-9e5bb8ff9248"
   },
   "outputs": [],
   "source": [
    "actors_profiles_per_year = {}\n",
    "for year in range(start_year,end_year):\n",
    "  actors_profiles = {}\n",
    "  for actor,row in act_pivot_rating_per_year[year].iterrows():\n",
    "    if not np.isnan(row['Vote_average']) and row['Number_vote'] >=10:\n",
    "      vote = row['Vote_average']\n",
    "    else:\n",
    "      vote = 0\n",
    "    if not np.isnan(row['Avg_rating']) and row['Number_rating'] >=3:\n",
    "      rating = row['Avg_rating']\n",
    "    else:\n",
    "      rating = 0\n",
    "    actors_profiles[actor] = (min(row['Number'], 40)/40) + (min(row['Average'], 6e8)/1e8) + (min(vote, 7)/3.5) + (min(rating, 3.5)/3.5)\n",
    "  actors_profiles_per_year[year] = actors_profiles"
   ]
  },
  {
   "cell_type": "code",
   "execution_count": 53,
   "metadata": {
    "colab": {
     "base_uri": "https://localhost:8080/",
     "height": 296
    },
    "colab_type": "code",
    "id": "s9xz5cRaU_nv",
    "outputId": "b914eeff-ada9-4006-cc8a-3c2e9b0e9802"
   },
   "outputs": [
    {
     "name": "stdout",
     "output_type": "stream",
     "text": [
      "Example cast rankings:\n"
     ]
    },
    {
     "data": {
      "text/html": [
       "<div>\n",
       "<style scoped>\n",
       "    .dataframe tbody tr th:only-of-type {\n",
       "        vertical-align: middle;\n",
       "    }\n",
       "\n",
       "    .dataframe tbody tr th {\n",
       "        vertical-align: top;\n",
       "    }\n",
       "\n",
       "    .dataframe thead th {\n",
       "        text-align: right;\n",
       "    }\n",
       "</style>\n",
       "<table border=\"1\" class=\"dataframe\">\n",
       "  <thead>\n",
       "    <tr style=\"text-align: right;\">\n",
       "      <th></th>\n",
       "      <th>original_title</th>\n",
       "      <th>cast</th>\n",
       "    </tr>\n",
       "  </thead>\n",
       "  <tbody>\n",
       "    <tr>\n",
       "      <th>0</th>\n",
       "      <td>Sudden Death</td>\n",
       "      <td>1.63114</td>\n",
       "    </tr>\n",
       "    <tr>\n",
       "      <th>1</th>\n",
       "      <td>The American President</td>\n",
       "      <td>4.91989</td>\n",
       "    </tr>\n",
       "    <tr>\n",
       "      <th>2</th>\n",
       "      <td>Cutthroat Island</td>\n",
       "      <td>2.63109</td>\n",
       "    </tr>\n",
       "    <tr>\n",
       "      <th>3</th>\n",
       "      <td>Casino</td>\n",
       "      <td>4.11529</td>\n",
       "    </tr>\n",
       "    <tr>\n",
       "      <th>4</th>\n",
       "      <td>Four Rooms</td>\n",
       "      <td>3.53922</td>\n",
       "    </tr>\n",
       "  </tbody>\n",
       "</table>\n",
       "</div>"
      ],
      "text/plain": [
       "           original_title     cast\n",
       "0            Sudden Death  1.63114\n",
       "1  The American President  4.91989\n",
       "2        Cutthroat Island  2.63109\n",
       "3                  Casino  4.11529\n",
       "4              Four Rooms  3.53922"
      ]
     },
     "metadata": {},
     "output_type": "display_data"
    }
   ],
   "source": [
    "for i, row in df.iterrows():\n",
    "  movie_act = row['cast']\n",
    "  act_profiled = []\n",
    "  for x in movie_act:\n",
    "    if x in actors_profiles_per_year[row['release_year']]:\n",
    "      act_profiled.append(actors_profiles_per_year[row['release_year']][x])\n",
    "  if not act_profiled:\n",
    "    act_profiled.append(0)\n",
    "  movie_act = act_profiled\n",
    "  \n",
    "  if len(movie_act) > 2:\n",
    "    top_3_idx = np.argsort(movie_act)[-3:]\n",
    "    top_3_values = [movie_act[i] for i in top_3_idx]\n",
    "    movie_act = np.sum(top_3_values)/3\n",
    "  elif len(movie_act) == 2:\n",
    "    top_2_idx = np.argsort(movie_act)[-2:]\n",
    "    top_2_values = [movie_act[i] for i in top_2_idx]\n",
    "    movie_act = np.sum(top_2_values)/2\n",
    "  elif len(movie_act) == 1:\n",
    "    movie_act = np.amax(movie_act)\n",
    "  else: \n",
    "    movie_act = 0\n",
    "\n",
    "  df.set_value(i,'cast',movie_act)\n",
    "  \n",
    "print(\"Example cast rankings:\")\n",
    "display(df[['original_title', 'cast']].head(5))\n",
    "\n",
    "df['cast']= df['cast'].astype(np.float)"
   ]
  },
  {
   "cell_type": "markdown",
   "metadata": {
    "colab_type": "text",
    "id": "3XQTP96ZtPyJ"
   },
   "source": [
    "### 5.3 Date feature manipulations"
   ]
  },
  {
   "cell_type": "markdown",
   "metadata": {},
   "source": [
    "Using the graph displayed earlier, we saw that the only relevant release day is Friday. Therefore we use a \"is Friday\" feature.<br>We apply similar logic to the release_month and only keep a \"is Holiday\" feature."
   ]
  },
  {
   "cell_type": "code",
   "execution_count": 54,
   "metadata": {
    "colab": {
     "base_uri": "https://localhost:8080/",
     "height": 316
    },
    "colab_type": "code",
    "id": "_DbbTH9wtUvk",
    "outputId": "186f8023-bcab-4936-ca4c-f91d3260b570"
   },
   "outputs": [
    {
     "data": {
      "text/html": [
       "<div>\n",
       "<style scoped>\n",
       "    .dataframe tbody tr th:only-of-type {\n",
       "        vertical-align: middle;\n",
       "    }\n",
       "\n",
       "    .dataframe tbody tr th {\n",
       "        vertical-align: top;\n",
       "    }\n",
       "\n",
       "    .dataframe thead th {\n",
       "        text-align: right;\n",
       "    }\n",
       "</style>\n",
       "<table border=\"1\" class=\"dataframe\">\n",
       "  <thead>\n",
       "    <tr style=\"text-align: right;\">\n",
       "      <th></th>\n",
       "      <th>id</th>\n",
       "      <th>original_title</th>\n",
       "      <th>release_year</th>\n",
       "      <th>original_language</th>\n",
       "      <th>spoken_languages</th>\n",
       "      <th>runtime</th>\n",
       "      <th>genres</th>\n",
       "      <th>age</th>\n",
       "      <th>adult</th>\n",
       "      <th>production_companies</th>\n",
       "      <th>...</th>\n",
       "      <th>cast</th>\n",
       "      <th>director</th>\n",
       "      <th>budget</th>\n",
       "      <th>revenue</th>\n",
       "      <th>vote_average</th>\n",
       "      <th>avg_rating</th>\n",
       "      <th>budget_InfAdj</th>\n",
       "      <th>revenue_InfAdj</th>\n",
       "      <th>is_Friday</th>\n",
       "      <th>is_Holiday</th>\n",
       "    </tr>\n",
       "  </thead>\n",
       "  <tbody>\n",
       "    <tr>\n",
       "      <th>0</th>\n",
       "      <td>9091</td>\n",
       "      <td>Sudden Death</td>\n",
       "      <td>1995.0</td>\n",
       "      <td>en</td>\n",
       "      <td>[English]</td>\n",
       "      <td>106.0</td>\n",
       "      <td>[Action, Adventure, Thriller]</td>\n",
       "      <td>adult</td>\n",
       "      <td>False</td>\n",
       "      <td>3.951796</td>\n",
       "      <td>...</td>\n",
       "      <td>1.631138</td>\n",
       "      <td>2.928511</td>\n",
       "      <td>35000000.0</td>\n",
       "      <td>64350171.0</td>\n",
       "      <td>5.5</td>\n",
       "      <td>-1.000000</td>\n",
       "      <td>5.630002e+07</td>\n",
       "      <td>1.035119e+08</td>\n",
       "      <td>1</td>\n",
       "      <td>1</td>\n",
       "    </tr>\n",
       "    <tr>\n",
       "      <th>1</th>\n",
       "      <td>9087</td>\n",
       "      <td>The American President</td>\n",
       "      <td>1995.0</td>\n",
       "      <td>en</td>\n",
       "      <td>[English]</td>\n",
       "      <td>106.0</td>\n",
       "      <td>[Comedy, Drama, Romance]</td>\n",
       "      <td>teen</td>\n",
       "      <td>False</td>\n",
       "      <td>3.895267</td>\n",
       "      <td>...</td>\n",
       "      <td>4.919893</td>\n",
       "      <td>5.205188</td>\n",
       "      <td>62000000.0</td>\n",
       "      <td>107879496.0</td>\n",
       "      <td>6.5</td>\n",
       "      <td>-1.000000</td>\n",
       "      <td>9.973147e+07</td>\n",
       "      <td>1.735320e+08</td>\n",
       "      <td>1</td>\n",
       "      <td>1</td>\n",
       "    </tr>\n",
       "    <tr>\n",
       "      <th>2</th>\n",
       "      <td>1408</td>\n",
       "      <td>Cutthroat Island</td>\n",
       "      <td>1995.0</td>\n",
       "      <td>en</td>\n",
       "      <td>[English, Latin]</td>\n",
       "      <td>119.0</td>\n",
       "      <td>[Action, Adventure]</td>\n",
       "      <td>teen</td>\n",
       "      <td>False</td>\n",
       "      <td>4.219538</td>\n",
       "      <td>...</td>\n",
       "      <td>2.631086</td>\n",
       "      <td>4.350451</td>\n",
       "      <td>98000000.0</td>\n",
       "      <td>10017322.0</td>\n",
       "      <td>5.7</td>\n",
       "      <td>3.710181</td>\n",
       "      <td>1.576401e+08</td>\n",
       "      <td>1.611358e+07</td>\n",
       "      <td>1</td>\n",
       "      <td>1</td>\n",
       "    </tr>\n",
       "    <tr>\n",
       "      <th>3</th>\n",
       "      <td>524</td>\n",
       "      <td>Casino</td>\n",
       "      <td>1995.0</td>\n",
       "      <td>en</td>\n",
       "      <td>[English]</td>\n",
       "      <td>178.0</td>\n",
       "      <td>[Drama, Crime]</td>\n",
       "      <td>adult</td>\n",
       "      <td>False</td>\n",
       "      <td>4.039609</td>\n",
       "      <td>...</td>\n",
       "      <td>4.115287</td>\n",
       "      <td>4.480349</td>\n",
       "      <td>52000000.0</td>\n",
       "      <td>116112375.0</td>\n",
       "      <td>7.8</td>\n",
       "      <td>3.515170</td>\n",
       "      <td>8.364575e+07</td>\n",
       "      <td>1.867751e+08</td>\n",
       "      <td>0</td>\n",
       "      <td>1</td>\n",
       "    </tr>\n",
       "  </tbody>\n",
       "</table>\n",
       "<p>4 rows × 21 columns</p>\n",
       "</div>"
      ],
      "text/plain": [
       "     id          original_title  release_year original_language  \\\n",
       "0  9091            Sudden Death        1995.0                en   \n",
       "1  9087  The American President        1995.0                en   \n",
       "2  1408        Cutthroat Island        1995.0                en   \n",
       "3   524                  Casino        1995.0                en   \n",
       "\n",
       "   spoken_languages  runtime                         genres    age  adult  \\\n",
       "0         [English]    106.0  [Action, Adventure, Thriller]  adult  False   \n",
       "1         [English]    106.0       [Comedy, Drama, Romance]   teen  False   \n",
       "2  [English, Latin]    119.0            [Action, Adventure]   teen  False   \n",
       "3         [English]    178.0                 [Drama, Crime]  adult  False   \n",
       "\n",
       "   production_companies     ...          cast  director      budget  \\\n",
       "0              3.951796     ...      1.631138  2.928511  35000000.0   \n",
       "1              3.895267     ...      4.919893  5.205188  62000000.0   \n",
       "2              4.219538     ...      2.631086  4.350451  98000000.0   \n",
       "3              4.039609     ...      4.115287  4.480349  52000000.0   \n",
       "\n",
       "       revenue  vote_average  avg_rating  budget_InfAdj  revenue_InfAdj  \\\n",
       "0   64350171.0           5.5   -1.000000   5.630002e+07    1.035119e+08   \n",
       "1  107879496.0           6.5   -1.000000   9.973147e+07    1.735320e+08   \n",
       "2   10017322.0           5.7    3.710181   1.576401e+08    1.611358e+07   \n",
       "3  116112375.0           7.8    3.515170   8.364575e+07    1.867751e+08   \n",
       "\n",
       "   is_Friday  is_Holiday  \n",
       "0          1           1  \n",
       "1          1           1  \n",
       "2          1           1  \n",
       "3          0           1  \n",
       "\n",
       "[4 rows x 21 columns]"
      ]
     },
     "metadata": {},
     "output_type": "display_data"
    }
   ],
   "source": [
    "df['is_Friday'] = df['release_day'].apply(lambda x: 1 if (x=='Fri') else 0)\n",
    "df = df.drop('release_day', axis=1)\n",
    "\n",
    "df['is_Holiday'] = df['release_month'].apply(lambda x: 1 if x in  [5,6,7,11,12] else 0)\n",
    "df = df.drop('release_month', axis=1)\n",
    "\n",
    "display(df.head(4))"
   ]
  },
  {
   "cell_type": "markdown",
   "metadata": {
    "colab_type": "text",
    "id": "iTfKMp26u90C"
   },
   "source": [
    "### 5.4 One Hot Encoding"
   ]
  },
  {
   "cell_type": "markdown",
   "metadata": {},
   "source": [
    "Using MultiLabelBinarizer, we will create a one hot encoding for age (kids / teen / ...), genres and language.<br>\n",
    "Remark - for the languages encoding, we only keep languages with more than 10 movies."
   ]
  },
  {
   "cell_type": "code",
   "execution_count": 55,
   "metadata": {
    "colab": {},
    "colab_type": "code",
    "id": "jd37BT2Kh6PO"
   },
   "outputs": [],
   "source": [
    "mlb = MultiLabelBinarizer()"
   ]
  },
  {
   "cell_type": "code",
   "execution_count": 56,
   "metadata": {
    "colab": {},
    "colab_type": "code",
    "id": "5leCyCDWF8_h"
   },
   "outputs": [],
   "source": [
    "# Binarize age groups\n",
    "age_mask =[[\"age_\"+str(x)] for x in df['age']]\n",
    "\n",
    "oh_age_data = mlb.fit_transform(age_mask)\n",
    "oh_age_labels = mlb.classes_\n",
    "\n",
    "oh_age = pd.DataFrame(oh_age_data, columns=oh_age_labels)"
   ]
  },
  {
   "cell_type": "code",
   "execution_count": 57,
   "metadata": {
    "colab": {},
    "colab_type": "code",
    "id": "0aqn7nWXvBSa"
   },
   "outputs": [],
   "source": [
    "# Binarize genres\n",
    "oh_genres_data = mlb.fit_transform(df['genres'])\n",
    "oh_genres_labels = mlb.classes_\n",
    "\n",
    "oh_genres = pd.DataFrame(oh_genres_data, columns=oh_genres_labels)\n",
    "oh_genres.drop(oh_genres.columns[oh_genres.apply(lambda col: col.sum() < 30)], axis=1,inplace=True)"
   ]
  },
  {
   "cell_type": "code",
   "execution_count": 58,
   "metadata": {
    "colab": {},
    "colab_type": "code",
    "id": "pp6n18MkvHH-"
   },
   "outputs": [],
   "source": [
    "# Binarize original language\n",
    "# We keep only languages that have at least 10 movies registered\n",
    "lang_mask =[[\"lang_\"+str(x)] for x in df['original_language']]\n",
    "\n",
    "oh_lang_data = mlb.fit_transform(lang_mask)\n",
    "oh_lang_labels = mlb.classes_\n",
    "\n",
    "oh_lang = pd.DataFrame(oh_lang_data, columns=oh_lang_labels)\n",
    "oh_lang.drop(oh_lang.columns[oh_lang.apply(lambda col: col.sum() <10)], axis=1,inplace=True)"
   ]
  },
  {
   "cell_type": "code",
   "execution_count": 59,
   "metadata": {
    "colab": {},
    "colab_type": "code",
    "id": "mkEiPJyqhgv0"
   },
   "outputs": [],
   "source": [
    "# Combine all one hot encoding into one table named \"oh\"\n",
    "oh=pd.concat([oh_genres,oh_lang,oh_age],axis=1)"
   ]
  },
  {
   "cell_type": "markdown",
   "metadata": {
    "colab_type": "text",
    "id": "37UpAgyihlRG"
   },
   "source": [
    "### 5.5 Feature Scaling"
   ]
  },
  {
   "cell_type": "markdown",
   "metadata": {},
   "source": [
    "We center runtime and release_year to the mean and component wise scale to unit variance.<br>\n",
    "We also scale inflation adjusted budget and revenue logarithmically. We do this so we can use RMSE as our error function."
   ]
  },
  {
   "cell_type": "code",
   "execution_count": 60,
   "metadata": {
    "colab": {},
    "colab_type": "code",
    "id": "uRrinMw0hlRH"
   },
   "outputs": [],
   "source": [
    "cols_to_scale = [\"runtime\",\"release_year\"]\n",
    "scaled=pd.DataFrame(scale(df[cols_to_scale]),columns=cols_to_scale)\n",
    "\n",
    "cols_to_log=['budget_InfAdj', 'revenue_InfAdj']\n",
    "loged=pd.DataFrame(np.log10(df[cols_to_log]+1),columns=cols_to_log)"
   ]
  },
  {
   "cell_type": "markdown",
   "metadata": {
    "colab_type": "text",
    "id": "otRZwV4JtAUU"
   },
   "source": [
    "### 5.6 Creating final table"
   ]
  },
  {
   "cell_type": "markdown",
   "metadata": {},
   "source": [
    "We combine all one hot, scaled features and manipulated columns to a single table."
   ]
  },
  {
   "cell_type": "code",
   "execution_count": 61,
   "metadata": {
    "colab": {
     "base_uri": "https://localhost:8080/",
     "height": 126
    },
    "colab_type": "code",
    "id": "SlghB9i8tDaE",
    "outputId": "ad4717dc-3634-4465-efd8-5824f6caa2de"
   },
   "outputs": [
    {
     "name": "stdout",
     "output_type": "stream",
     "text": [
      "Example row from the final database:\n"
     ]
    },
    {
     "data": {
      "text/html": [
       "<div>\n",
       "<style scoped>\n",
       "    .dataframe tbody tr th:only-of-type {\n",
       "        vertical-align: middle;\n",
       "    }\n",
       "\n",
       "    .dataframe tbody tr th {\n",
       "        vertical-align: top;\n",
       "    }\n",
       "\n",
       "    .dataframe thead th {\n",
       "        text-align: right;\n",
       "    }\n",
       "</style>\n",
       "<table border=\"1\" class=\"dataframe\">\n",
       "  <thead>\n",
       "    <tr style=\"text-align: right;\">\n",
       "      <th></th>\n",
       "      <th>runtime</th>\n",
       "      <th>release_year</th>\n",
       "      <th>budget_InfAdj</th>\n",
       "      <th>revenue_InfAdj</th>\n",
       "      <th>Action</th>\n",
       "      <th>Adventure</th>\n",
       "      <th>Animation</th>\n",
       "      <th>Biography</th>\n",
       "      <th>Comedy</th>\n",
       "      <th>Crime</th>\n",
       "      <th>...</th>\n",
       "      <th>lang_zh</th>\n",
       "      <th>age_adult</th>\n",
       "      <th>age_kid</th>\n",
       "      <th>age_na</th>\n",
       "      <th>age_teen</th>\n",
       "      <th>is_Friday</th>\n",
       "      <th>is_Holiday</th>\n",
       "      <th>cast</th>\n",
       "      <th>director</th>\n",
       "      <th>production_companies</th>\n",
       "    </tr>\n",
       "  </thead>\n",
       "  <tbody>\n",
       "    <tr>\n",
       "      <th>0</th>\n",
       "      <td>-0.183799</td>\n",
       "      <td>-1.891911</td>\n",
       "      <td>7.750509</td>\n",
       "      <td>8.01499</td>\n",
       "      <td>1</td>\n",
       "      <td>1</td>\n",
       "      <td>0</td>\n",
       "      <td>0</td>\n",
       "      <td>0</td>\n",
       "      <td>0</td>\n",
       "      <td>...</td>\n",
       "      <td>0</td>\n",
       "      <td>1</td>\n",
       "      <td>0</td>\n",
       "      <td>0</td>\n",
       "      <td>0</td>\n",
       "      <td>1</td>\n",
       "      <td>1</td>\n",
       "      <td>1.631138</td>\n",
       "      <td>2.928511</td>\n",
       "      <td>3.951796</td>\n",
       "    </tr>\n",
       "  </tbody>\n",
       "</table>\n",
       "<p>1 rows × 47 columns</p>\n",
       "</div>"
      ],
      "text/plain": [
       "    runtime  release_year  budget_InfAdj  revenue_InfAdj  Action  Adventure  \\\n",
       "0 -0.183799     -1.891911       7.750509         8.01499       1          1   \n",
       "\n",
       "   Animation  Biography  Comedy  Crime          ...           lang_zh  \\\n",
       "0          0          0       0      0          ...                 0   \n",
       "\n",
       "   age_adult  age_kid  age_na  age_teen  is_Friday  is_Holiday      cast  \\\n",
       "0          1        0       0         0          1           1  1.631138   \n",
       "\n",
       "   director  production_companies  \n",
       "0  2.928511              3.951796  \n",
       "\n",
       "[1 rows x 47 columns]"
      ]
     },
     "execution_count": 61,
     "metadata": {},
     "output_type": "execute_result"
    }
   ],
   "source": [
    "cols_to_add = ['is_Friday', 'is_Holiday', 'cast', 'director', 'production_companies']\n",
    "add = df[cols_to_add]\n",
    "features=pd.concat([scaled,loged,oh,add],axis=1)\n",
    "\n",
    "print(\"Example row from the final database:\")\n",
    "features.head(1)"
   ]
  },
  {
   "cell_type": "markdown",
   "metadata": {},
   "source": [
    "Split the final database into the target and features"
   ]
  },
  {
   "cell_type": "code",
   "execution_count": 62,
   "metadata": {
    "colab": {},
    "colab_type": "code",
    "id": "Xn9DL3qEhlRO"
   },
   "outputs": [],
   "source": [
    "target=features.revenue_InfAdj\n",
    "features=features.drop(columns=['revenue_InfAdj'])"
   ]
  },
  {
   "cell_type": "markdown",
   "metadata": {
    "colab_type": "text",
    "id": "3nwNBRcwYeL1"
   },
   "source": [
    "### 5.7 Feature-Feature and Feature-Target Correlation\n"
   ]
  },
  {
   "cell_type": "markdown",
   "metadata": {},
   "source": [
    "After we create the final database, we present the correlation between the final features."
   ]
  },
  {
   "cell_type": "code",
   "execution_count": 63,
   "metadata": {
    "colab": {
     "base_uri": "https://localhost:8080/",
     "height": 336
    },
    "colab_type": "code",
    "id": "_DLXIpkCYQ2A",
    "outputId": "c4ea9965-d4f1-4de6-8480-18d6fa62abe1"
   },
   "outputs": [
    {
     "name": "stdout",
     "output_type": "stream",
     "text": [
      "The highly correlated paramaters (paramaters with correlation greater than 0.4): \n",
      "\n",
      "Family Animation 0.6005061186358092\n",
      "Thriller Comedy -0.4008113376371363\n",
      "lang_en age_na -0.6204363251048749\n",
      "lang_en cast 0.5485233776831893\n",
      "age_kid Animation 0.5440252045913885\n",
      "age_kid Family 0.8132782191413309\n",
      "age_teen age_adult -0.6016174494030944\n",
      "cast budget_InfAdj 0.5093594561044485\n",
      "cast age_na -0.4789575334839115\n",
      "director budget_InfAdj 0.4177232472143761\n",
      "director cast 0.4153126384442579\n",
      "production_companies budget_InfAdj 0.5509125230868372\n",
      "production_companies cast 0.5480424470742258\n",
      "production_companies director 0.4748527637241012\n",
      "revenue_InfAdj budget_InfAdj 0.7012734066297838\n",
      "revenue_InfAdj cast 0.40552187907381415\n",
      "revenue_InfAdj production_companies 0.5631091926312126\n"
     ]
    }
   ],
   "source": [
    "correlation_df=pd.concat([features,target],axis=1)\n",
    "\n",
    "corr=correlation_df.corr()\n",
    "\n",
    "print(\"The highly correlated paramaters (paramaters with correlation greater than 0.4): \")\n",
    "print(\"\")\n",
    "for col in corr.columns.values:\n",
    "   for row in corr.columns.values:\n",
    "    if(abs(corr[col][row])>0.40):\n",
    "      if(col>row):\n",
    "        print(col,row,corr[col][row])"
   ]
  },
  {
   "cell_type": "code",
   "execution_count": 64,
   "metadata": {
    "colab": {
     "base_uri": "https://localhost:8080/",
     "height": 1665
    },
    "colab_type": "code",
    "id": "rioFP28rLWVs",
    "outputId": "869c02ac-e76b-4b6f-f73d-9b447c5fb7d2"
   },
   "outputs": [
    {
     "data": {
      "image/png": "[encoded data removed]",
      "text/plain": [
       "<Figure size 720x1080 with 2 Axes>"
      ]
     },
     "metadata": {},
     "output_type": "display_data"
    }
   ],
   "source": [
    "plt.rcParams[\"figure.figsize\"] = (10,15)\n",
    "data_visualization_and_analysis.correlation_matrix(correlation_df)"
   ]
  },
  {
   "cell_type": "markdown",
   "metadata": {
    "colab_type": "text",
    "id": "CgL5TiXehDqq"
   },
   "source": [
    "### 5.8 Split Into Train and Test Data + Randomly Shuffle Data"
   ]
  },
  {
   "cell_type": "code",
   "execution_count": 65,
   "metadata": {
    "colab": {},
    "colab_type": "code",
    "id": "4J38Xy9ahlRV"
   },
   "outputs": [],
   "source": [
    "X=features\n",
    "y=target"
   ]
  },
  {
   "cell_type": "markdown",
   "metadata": {},
   "source": [
    "Splitting for Train 64% /  Cross Validation 20% / Test 16% :"
   ]
  },
  {
   "cell_type": "code",
   "execution_count": 66,
   "metadata": {
    "colab": {
     "base_uri": "https://localhost:8080/",
     "height": 70
    },
    "colab_type": "code",
    "id": "Vk77sk3bhIZk",
    "outputId": "8858b20d-f517-4a05-d579-f27f4e0bccc3"
   },
   "outputs": [
    {
     "name": "stdout",
     "output_type": "stream",
     "text": [
      "Train percentage: 63.98%\n",
      "Test percentage: 16.01%\n",
      "Cross validation percentage: 20.02%\n"
     ]
    }
   ],
   "source": [
    "X_train, X_cross, y_train, y_cross = train_test_split(X, y, test_size=0.2, random_state=100)\n",
    "X_train, X_val, y_train, y_val = train_test_split(X_train, y_train, test_size=0.2, random_state=100)\n",
    "X_val_copy = X_val.copy()\n",
    "print(\"Train percentage: {0:.2f}%\".format(X_train.shape[0]/X.shape[0]*100))\n",
    "print(\"Test percentage: {0:.2f}%\".format(X_val.shape[0]/X.shape[0]*100))\n",
    "print(\"Cross validation percentage: {0:.2f}%\".format(X_cross.shape[0]/X.shape[0]*100))"
   ]
  },
  {
   "cell_type": "markdown",
   "metadata": {
    "colab_type": "text",
    "id": "v_A8WMolcHXE"
   },
   "source": [
    "### 5.9 Outiler Detection on Training Data"
   ]
  },
  {
   "cell_type": "markdown",
   "metadata": {},
   "source": [
    "Remove outliers where the revenue is more than 10^4 times greater than the budget.<br>\n",
    "We only remove these outliers from the <b>train</b> set, but we still evaluate on movies that have this feature."
   ]
  },
  {
   "cell_type": "code",
   "execution_count": 67,
   "metadata": {
    "colab": {},
    "colab_type": "code",
    "id": "lhoM2prHbNms",
    "scrolled": true
   },
   "outputs": [],
   "source": [
    "valid_data=abs(X_train.budget_InfAdj-y_train)<4\n",
    "\n",
    "X_train=X_train[valid_data]\n",
    "y_train=y_train[valid_data]"
   ]
  },
  {
   "cell_type": "markdown",
   "metadata": {
    "colab_type": "text",
    "id": "mJA_qdSPjpK5"
   },
   "source": [
    "## 6 Model Training and Parameter Tuning"
   ]
  },
  {
   "cell_type": "markdown",
   "metadata": {
    "colab_type": "text",
    "id": "FlAk4C_nWbGv"
   },
   "source": [
    "### 6.1 Building The Model"
   ]
  },
  {
   "cell_type": "markdown",
   "metadata": {},
   "source": [
    "In this sections we run many models, and print their results on the cross validation set.<br>\n",
    "For many scikit-learn models, we use the GridSearchCV function in order to fine tune the parameters for an optimal model. <br>\n",
    "For some of the other models, we manually iterate through parameters, evaluating them on the cross validation set in order to choose the best parameter."
   ]
  },
  {
   "cell_type": "markdown",
   "metadata": {
    "colab_type": "text",
    "id": "J0ENBdbSxcFF"
   },
   "source": [
    "#### 6.1.1 Build The Models"
   ]
  },
  {
   "cell_type": "markdown",
   "metadata": {},
   "source": [
    "We initialize a dictionary to hold all cross validation results, and another to hold all models in order to create the final model."
   ]
  },
  {
   "cell_type": "code",
   "execution_count": 68,
   "metadata": {
    "colab": {},
    "colab_type": "code",
    "id": "t_9zS79FhlRl"
   },
   "outputs": [],
   "source": [
    "performance_results = {}\n",
    "trainers = {}"
   ]
  },
  {
   "cell_type": "markdown",
   "metadata": {
    "colab_type": "text",
    "id": "EUvMSdha6R41"
   },
   "source": [
    "##### 6.1.1.1 Naive Classifier"
   ]
  },
  {
   "cell_type": "markdown",
   "metadata": {},
   "source": [
    "The naive classifier guesses that all movies 'break-even' and make exactly as much as their budget."
   ]
  },
  {
   "cell_type": "code",
   "execution_count": 69,
   "metadata": {
    "colab": {
     "base_uri": "https://localhost:8080/",
     "height": 34
    },
    "colab_type": "code",
    "id": "GCuOHMGI6SNa",
    "outputId": "ad6dc1d1-9842-41f5-fad8-dbc941aadfbf"
   },
   "outputs": [
    {
     "name": "stdout",
     "output_type": "stream",
     "text": [
      "Cross Validation RMSE result 0.8882270436704641\n"
     ]
    }
   ],
   "source": [
    "reg_predict = list(X_cross['budget_InfAdj'])\n",
    "\n",
    "mse=metrics.mean_squared_error(y_cross,reg_predict)\n",
    "print(\"Cross Validation RMSE result {}\".format(mse**0.5))\n",
    "\n",
    "performance_results[\"Naive_Classifier_RMSE\"] = mse**0.5"
   ]
  },
  {
   "cell_type": "markdown",
   "metadata": {
    "colab_type": "text",
    "id": "s_gaEEP_fbC1"
   },
   "source": [
    "##### 6.1.1.2 Linear Regression"
   ]
  },
  {
   "cell_type": "code",
   "execution_count": 70,
   "metadata": {
    "colab": {
     "base_uri": "https://localhost:8080/",
     "height": 52
    },
    "colab_type": "code",
    "id": "2x4lBVOFW9xA",
    "outputId": "aad2b110-f848-472e-d7da-bd5acbbdfaaa"
   },
   "outputs": [
    {
     "name": "stdout",
     "output_type": "stream",
     "text": [
      "The Cross Validation R^2 coeffienct 0.5127290559994104\n",
      "Cross Validation RMSE result 0.769641709665202\n"
     ]
    }
   ],
   "source": [
    "reg = LinearRegression().fit(X_train, y_train)\n",
    "reg_score=reg.score(X_cross, y_cross)\n",
    "print(\"The Cross Validation R^2 coeffienct {}\".format(reg_score))\n",
    "regression_predict = reg.predict(X_cross)\n",
    "trainers['Linear_Regression_Predictor']=reg\n",
    "mse=metrics.mean_squared_error(y_cross,regression_predict)\n",
    "print(\"Cross Validation RMSE result {}\".format(mse**0.5))\n",
    "\n",
    "performance_results[\"Linear_Regression_R^2\"]  = reg_score\n",
    "performance_results[\"Linear_Regression_RMSE\"] = mse**0.5"
   ]
  },
  {
   "cell_type": "code",
   "execution_count": 71,
   "metadata": {
    "colab": {
     "base_uri": "https://localhost:8080/",
     "height": 1297
    },
    "colab_type": "code",
    "id": "3Xb047Hej6o4",
    "outputId": "f50c0422-50c5-4e0d-d01b-7ac286d17632"
   },
   "outputs": [
    {
     "name": "stdout",
     "output_type": "stream",
     "text": [
      "In linear regression, the coefficient of the budget is 0.8044158860254024\n"
     ]
    },
    {
     "data": {
      "image/png": "[encoded data removed]",
      "text/plain": [
       "<Figure size 864x432 with 1 Axes>"
      ]
     },
     "metadata": {},
     "output_type": "display_data"
    }
   ],
   "source": [
    "print(\"In linear regression, the coefficient of the budget is {}\".format(reg.coef_[X_train.columns.get_loc(\"budget_InfAdj\")]))\n",
    "\n",
    "geners=list(oh_genres)\n",
    "geners_coef = []\n",
    "for gener in geners:\n",
    "  geners_coef.append(reg.coef_[X_train.columns.get_loc(gener)])\n",
    "plt.figure(figsize=(12,6))\n",
    "plt.plot(geners, geners_coef, \"ro\")\n",
    "plt.xticks(rotation=90)\n",
    "plt.title(\"Coefficients for genres\")\n",
    "plt.show()"
   ]
  },
  {
   "cell_type": "markdown",
   "metadata": {
    "colab_type": "text",
    "id": "dKyhu7PH0lx2"
   },
   "source": [
    "###### 6.1.1.2.1  Linear Regression with Budget Only"
   ]
  },
  {
   "cell_type": "markdown",
   "metadata": {},
   "source": [
    "We try to use linear regression using only the budget, and we see that there is only a small deviation from the naive classifier."
   ]
  },
  {
   "cell_type": "code",
   "execution_count": 72,
   "metadata": {
    "colab": {
     "base_uri": "https://localhost:8080/",
     "height": 70
    },
    "colab_type": "code",
    "id": "GeYLHYKumCYI",
    "outputId": "fe643678-c420-46f7-cb4d-d6f8b5652054"
   },
   "outputs": [
    {
     "name": "stdout",
     "output_type": "stream",
     "text": [
      "The Cross Validation R^2 coeffienct 0.368255815355242\n",
      "Cross Validation RMSE result 0.8763426822197341\n",
      "Budget coefficient: 1.0059146735127364\n"
     ]
    }
   ],
   "source": [
    "reg = LinearRegression().fit(X_train[['budget_InfAdj']], y_train)\n",
    "reg_score=reg.score(X_cross[['budget_InfAdj']], y_cross)\n",
    "print(\"The Cross Validation R^2 coeffienct {}\".format(reg_score))\n",
    "reg_predict = reg.predict(X_cross[['budget_InfAdj']])\n",
    "\n",
    "mse=metrics.mean_squared_error(y_cross,reg_predict)\n",
    "print(\"Cross Validation RMSE result {}\".format(mse**0.5))\n",
    "\n",
    "performance_results[\"Linear_Regression_Budget_Only_R^2\"]  = reg_score\n",
    "performance_results[\"Linear_Regression_Budget_Only_RMSE\"] = mse**0.5\n",
    "\n",
    "print(\"Budget coefficient: {}\".format(reg.coef_[0]))"
   ]
  },
  {
   "cell_type": "markdown",
   "metadata": {
    "colab_type": "text",
    "id": "-ef_73Pf1K2V"
   },
   "source": [
    "##### 6.1.1.3 Random Forest Regressor"
   ]
  },
  {
   "cell_type": "code",
   "execution_count": 73,
   "metadata": {
    "colab": {
     "base_uri": "https://localhost:8080/",
     "height": 143
    },
    "colab_type": "code",
    "id": "QADJW7OeF9AY",
    "outputId": "09d33b88-3138-4d51-92c4-95b72d0bb4f8"
   },
   "outputs": [
    {
     "name": "stdout",
     "output_type": "stream",
     "text": [
      "Cross Validation RMSE result 0.8200688094768817\n",
      "Cross Validation REGR R^2 result 0.44678504438433064\n",
      "The best max depth :10\n",
      "The best number of estimators :800\n"
     ]
    }
   ],
   "source": [
    "max_depth=[2,5,10,15]\n",
    "n_estimators=[800,1000]\n",
    "param_grid={\"max_depth\":max_depth,\"n_estimators\":n_estimators}\n",
    "\n",
    "reg=GridSearchCV(RandomForestRegressor(random_state=0), param_grid=param_grid,n_jobs=-1,cv=3)\n",
    "\n",
    "reg.fit(X_train,y_train)\n",
    "trainers['RF_Regression_Predictor']=reg\n",
    "rfg_predict = reg.predict(X_cross)\n",
    "reg_score=reg.score(X_cross, y_cross)\n",
    "mse=metrics.mean_squared_error(y_cross,rfg_predict)\n",
    "print(\"Cross Validation RMSE result {}\".format(mse**0.5))\n",
    "print(\"Cross Validation REGR R^2 result {}\".format(reg_score))\n",
    "best_max_depth=reg.best_params_['max_depth']\n",
    "print(\"The best max depth :\"+str(best_max_depth))\n",
    "\n",
    "best_n_estimators=reg.best_params_['n_estimators']\n",
    "print(\"The best number of estimators :\"+str(best_n_estimators))\n",
    "performance_results[\"Random Forest Regressor_d{}_n{}_R^2\".format(best_max_depth,best_n_estimators)]  = reg_score\n",
    "performance_results[\"Random Forest Regressor_d{}_n{}_RMSE\".format(best_max_depth,best_n_estimators)] = mse**0.5\n"
   ]
  },
  {
   "cell_type": "markdown",
   "metadata": {
    "colab_type": "text",
    "id": "4B5wW_WiBxqm"
   },
   "source": [
    "##### 6.1.1.4 SVR"
   ]
  },
  {
   "cell_type": "code",
   "execution_count": 74,
   "metadata": {
    "colab": {
     "base_uri": "https://localhost:8080/",
     "height": 105
    },
    "colab_type": "code",
    "id": "g-zxssVaF9Ac",
    "outputId": "f445d205-1eba-47b3-89ad-2bc3316a2945"
   },
   "outputs": [
    {
     "name": "stdout",
     "output_type": "stream",
     "text": [
      "Cross Validation RMSE result 0.7687775083981048\n",
      "Cross Validation REGR R^2 result 0.5138227174870771\n",
      "The best kernel: rbf\n",
      "The best C parameter: 5\n",
      "The best gamma parameter: 0.01\n"
     ]
    }
   ],
   "source": [
    "kernel=['linear','poly', 'rbf']\n",
    "C=[0.001,0.01,5,10,20]\n",
    "gamma=[0.5e-1,1e-2,1.5e-2]\n",
    "param_grid={\"kernel\":kernel,\"C\":C,\"gamma\":gamma}\n",
    "\n",
    "reg=GridSearchCV(SVR(max_iter=10000), param_grid=param_grid,n_jobs=-1,cv=3)\n",
    "\n",
    "reg.fit(X_train,y_train)\n",
    "trainers['SVR_Regression_Predictor']=reg\n",
    "svr_predict = reg.predict(X_cross)\n",
    "reg_score=reg.score(X_cross, y_cross)\n",
    "mse=metrics.mean_squared_error(y_cross,svr_predict)\n",
    "print(\"Cross Validation RMSE result {}\".format(mse**0.5))\n",
    "print(\"Cross Validation REGR R^2 result {}\".format(reg_score))\n",
    "best_kernel=reg.best_params_['kernel']\n",
    "best_C=reg.best_params_['C']\n",
    "best_gamma=reg.best_params_[\"gamma\"]\n",
    "print(\"The best kernel: {}\".format(best_kernel))\n",
    "print(\"The best C parameter: {}\".format(best_C))\n",
    "print(\"The best gamma parameter: {}\".format(best_gamma))\n",
    "performance_results[\"SVR_kernel_{}_C{}_R^2\".format(best_kernel, best_C)]  =reg_score\n",
    "performance_results[\"SVR_kernel_{}_C{}_RMSE\".format(best_kernel, best_C)] = mse**0.5"
   ]
  },
  {
   "cell_type": "markdown",
   "metadata": {
    "colab_type": "text",
    "id": "_6gLBiIwPYEh"
   },
   "source": [
    "##### 6.1.1.5 ElasticNet"
   ]
  },
  {
   "cell_type": "code",
   "execution_count": 75,
   "metadata": {
    "colab": {
     "base_uri": "https://localhost:8080/",
     "height": 52
    },
    "colab_type": "code",
    "id": "Tjws5i2UPYNC",
    "outputId": "257f722c-e4ab-4de5-e539-4682c63ede01"
   },
   "outputs": [
    {
     "name": "stdout",
     "output_type": "stream",
     "text": [
      "The Cross Validation R^2 coeffienct 0.5091153483845979\n",
      "Cross Validation RMSE result 0.7724903532856066\n"
     ]
    }
   ],
   "source": [
    "reg = ElasticNet(alpha=0.004).fit(X_train, y_train)\n",
    "reg_score=reg.score(X_cross, y_cross)\n",
    "print(\"The Cross Validation R^2 coeffienct {}\".format(reg_score))\n",
    "reg_predict = reg.predict(X_cross)\n",
    "trainers['EN_Regression_Predictor']=reg\n",
    "mse=metrics.mean_squared_error(y_cross,reg_predict)\n",
    "print(\"Cross Validation RMSE result {}\".format(mse**0.5))\n",
    "\n",
    "performance_results[\"ElasticNet_R^2\"]  = reg_score\n",
    "performance_results[\"ElasticNet_RMSE\"] = mse**0.5"
   ]
  },
  {
   "cell_type": "markdown",
   "metadata": {
    "colab_type": "text",
    "id": "H9_HxZtJYsGM"
   },
   "source": [
    "##### 6.1.1.6 KNN Regressors"
   ]
  },
  {
   "cell_type": "code",
   "execution_count": 76,
   "metadata": {
    "colab": {
     "base_uri": "https://localhost:8080/",
     "height": 52
    },
    "colab_type": "code",
    "id": "eMhoLIyQF9Ah",
    "outputId": "d208bbeb-c1ec-4730-e164-3b2e069e6bf5"
   },
   "outputs": [
    {
     "name": "stdout",
     "output_type": "stream",
     "text": [
      "Cross Validation RMSE result: 0.8022167215884798\n",
      "Cross Validation REGR R^2 result: 0.4706087676051952\n"
     ]
    }
   ],
   "source": [
    "n_neighbors=list(range(3,13,1))\n",
    "\n",
    "param_grid={\"n_neighbors\":n_neighbors}\n",
    "\n",
    "reg=GridSearchCV(KNeighborsRegressor(), param_grid=param_grid,n_jobs=-1,cv=3)\n",
    "\n",
    "reg.fit(X_train,y_train)\n",
    "trainers['KNN_Regression_Predictor']=reg\n",
    "knn_predict = reg.predict(X_cross)\n",
    "mse=metrics.mean_squared_error(y_cross,knn_predict)\n",
    "reg_score=reg.score(X_cross, y_cross)\n",
    "print(\"Cross Validation RMSE result: {}\".format(mse**0.5))\n",
    "print(\"Cross Validation REGR R^2 result: {}\".format(reg_score))\n",
    "performance_results[\"KNN_{}_neighbors_R^2\".format(reg.best_params_['n_neighbors'])]  = reg_score\n",
    "performance_results[\"KNN_{}_neighbors_RMSE\".format(reg.best_params_['n_neighbors'])] = mse**0.5"
   ]
  },
  {
   "cell_type": "markdown",
   "metadata": {
    "colab_type": "text",
    "id": "8Zt3yGOkWL7c"
   },
   "source": [
    "##### 6.1.1.7 MLP Regressor\n"
   ]
  },
  {
   "cell_type": "code",
   "execution_count": 77,
   "metadata": {
    "colab": {
     "base_uri": "https://localhost:8080/",
     "height": 107
    },
    "colab_type": "code",
    "id": "-UfpI1DkWJx4",
    "outputId": "484508bf-5975-44d4-a018-d7633176c0bb"
   },
   "outputs": [
    {
     "name": "stdout",
     "output_type": "stream",
     "text": [
      "The Cross Validation R^2 coeffienct 0.5205362445068664\n",
      "Cross Validation RMSE result 0.7634511075330461\n"
     ]
    }
   ],
   "source": [
    "activation=[\"logistic\", \"tanh\", \"relu\"]\n",
    "solver=[\"adam\"]\n",
    "learning_rate=[\"constant\",\"invscaling\",\"adaptive\"]\n",
    "param_grid={\"activation\":activation,\"learning_rate\":learning_rate,\"solver\":solver}\n",
    "model= GridSearchCV(neural_network.MLPRegressor(hidden_layer_sizes=(13,),alpha=0.25,shuffle=True), param_grid=param_grid,n_jobs=-1,cv=3)\n",
    "reg =model.fit(X_train, y_train)\n",
    "trainers['MLP_Regression_Predictor']=reg\n",
    "reg_score=reg.score(X_cross, y_cross)\n",
    "print(\"The Cross Validation R^2 coeffienct {}\".format(reg_score))\n",
    "mlp_predict = reg.predict(X_cross)\n",
    "\n",
    "mse=metrics.mean_squared_error(y_cross,mlp_predict)\n",
    "print(\"Cross Validation RMSE result {}\".format(mse**0.5))\n",
    "\n",
    "performance_results[\"MPL_R^2\"]  = reg_score\n",
    "performance_results[\"MPL_RMSE\"] = mse**0.5"
   ]
  },
  {
   "cell_type": "markdown",
   "metadata": {
    "colab_type": "text",
    "id": "e-22-LCYF9Al"
   },
   "source": [
    "##### 6.1.1.8 Kernel Ridge"
   ]
  },
  {
   "cell_type": "code",
   "execution_count": 78,
   "metadata": {
    "colab": {
     "base_uri": "https://localhost:8080/",
     "height": 52
    },
    "colab_type": "code",
    "id": "XLG5-1UHF9Al",
    "outputId": "b869e22a-2bc6-42cf-a3f7-c77a69b5333b"
   },
   "outputs": [
    {
     "name": "stdout",
     "output_type": "stream",
     "text": [
      "The Cross Validation R^2 coeffienct 0.5078848829866945\n",
      "Cross Validation RMSE result 0.7734579204527765\n"
     ]
    }
   ],
   "source": [
    "kernel=['linear','poly', 'rbf']\n",
    "gamma=[1,1e-2,1e-2,1e-4,1e-5]\n",
    "degree=[2,3,4,5]\n",
    "param_grid={\"kernel\":kernel,\"gamma\":gamma,\"degree\":degree}\n",
    "\n",
    "reg = KernelRidge()\n",
    "reg.fit(X_train, y_train)\n",
    "trainers['Ridge_Regression_Predictor']=reg\n",
    "reg_score=reg.score(X_cross, y_cross)\n",
    "print(\"The Cross Validation R^2 coeffienct {}\".format(reg_score))\n",
    "kernel_predict = reg.predict(X_cross)\n",
    "mse=metrics.mean_squared_error(y_cross,kernel_predict)\n",
    "print(\"Cross Validation RMSE result {}\".format(mse**0.5))\n",
    "performance_results[\"KernelRidge_R^2\"]  = reg_score\n",
    "performance_results[\"KernelRidge_RMSE\"] = mse**0.5"
   ]
  },
  {
   "cell_type": "markdown",
   "metadata": {
    "colab_type": "text",
    "id": "3hwxpKWiIxqk"
   },
   "source": [
    "##### 6.1.1.9 CatBoost"
   ]
  },
  {
   "cell_type": "code",
   "execution_count": 79,
   "metadata": {
    "colab": {},
    "colab_type": "code",
    "id": "N5rOyD6Be1tg"
   },
   "outputs": [
    {
     "name": "stdout",
     "output_type": "stream",
     "text": [
      "Cross Validation RMSE result 0.755322404280586\n"
     ]
    }
   ],
   "source": [
    "min_mse=10\n",
    "iters=[i for i in range(30,70,10)]\n",
    "lrs=[i/100 for i in range(20,40,5)]\n",
    "deps=[i for i in range(3,6) ]\n",
    "for ite in iters:\n",
    "  for lr in lrs:\n",
    "    for dep in deps:\n",
    "      model = CatBoostRegressor(iterations=ite, learning_rate=lr, depth=dep,silent=True)\n",
    "      model.fit(X_train, y_train)\n",
    "      preds = model.predict(X_cross)\n",
    "      mse=metrics.mean_squared_error(y_cross,preds)\n",
    "      if(min_mse>mse**0.5):\n",
    "        min_mse=mse**0.5\n",
    "        trainers['CatBoost']=model\n",
    "print(\"Cross Validation RMSE result {}\".format(min_mse))"
   ]
  },
  {
   "cell_type": "markdown",
   "metadata": {
    "colab_type": "text",
    "id": "B55iCtd-I-TR"
   },
   "source": [
    "##### 6.1.1.10 XgBoost"
   ]
  },
  {
   "cell_type": "code",
   "execution_count": 80,
   "metadata": {
    "colab": {
     "base_uri": "https://localhost:8080/",
     "height": 283
    },
    "colab_type": "code",
    "id": "mNO7Mkn4ytyn",
    "outputId": "57d6d575-272f-49df-a069-f792517f022b"
   },
   "outputs": [
    {
     "name": "stdout",
     "output_type": "stream",
     "text": [
      "Cross Validation RMSE result 0.7657616973401837\n"
     ]
    }
   ],
   "source": [
    "min_mse=10\n",
    "est=50\n",
    "lr=0.15\n",
    "dep=2\n",
    "iters=[i for i in range(10,60,10)]\n",
    "lrs=[i/100 for i in range(10,31,5)]\n",
    "deps=[i for i in range(2,5) ]\n",
    "for est in iters:\n",
    "  for lr in lrs:\n",
    "    for dep in deps:\n",
    "      xgb = xgboost.XGBRegressor(n_estimators=est, learning_rate=lr, gamma=0, subsample=0.75,colsample_bytree=1, max_depth=dep)\n",
    "      xgb.fit(X_train,y_train)\n",
    "      preds = xgb.predict(X_cross)\n",
    "      mse=metrics.mean_squared_error(y_cross,preds)\n",
    "      if(min_mse>mse**0.5):\n",
    "        min_mse=mse**0.5    \n",
    "        trainers['XGBoost']=xgb\n",
    "print(\"Cross Validation RMSE result {}\".format(min_mse))"
   ]
  },
  {
   "cell_type": "markdown",
   "metadata": {
    "colab_type": "text",
    "id": "MJXaEF0I6a3S"
   },
   "source": [
    "##### 6.1.1.11 LightGBM"
   ]
  },
  {
   "cell_type": "code",
   "execution_count": 81,
   "metadata": {
    "colab": {
     "base_uri": "https://localhost:8080/",
     "height": 158
    },
    "colab_type": "code",
    "id": "sEXwN5o516iN",
    "outputId": "08019d27-dcb3-47cf-dee4-bc79aa52c302"
   },
   "outputs": [
    {
     "name": "stdout",
     "output_type": "stream",
     "text": [
      "Cross Validation RMSE result 0.790445719574629\n"
     ]
    }
   ],
   "source": [
    "min_mse=10\n",
    "\n",
    "iters=[i for i in range(30,60,10)]\n",
    "lrs=[i/100 for i in range(1,25,5)]\n",
    "deps=[i for i in range(20,60,10) ]\n",
    "for est in iters:\n",
    "  for lr in lrs:\n",
    "    for dep in deps:\n",
    "      lgb = lightgbm.LGBMRegressor(num_leaves=est, learning_rate=lr, n_estimators=dep)\n",
    "      lgb.fit(X_train, y_train)\n",
    "      preds = lgb.predict(X_cross)\n",
    "      mse=metrics.mean_squared_error(y_cross,preds)\n",
    "      if(min_mse>mse**0.5):\n",
    "        min_mse=mse**0.5   \n",
    "        trainers['LightGBM']=lgb\n",
    "print(\"Cross Validation RMSE result {}\".format(min_mse))"
   ]
  },
  {
   "cell_type": "markdown",
   "metadata": {
    "colab_type": "text",
    "id": "8f0yVo9zucbA"
   },
   "source": [
    "### 6.2 Parameter tuning - Creating a weighted model"
   ]
  },
  {
   "cell_type": "markdown",
   "metadata": {},
   "source": [
    "We use the <b>cross validation</b> results and the ElasticNet model in order to calculate weights for the each of our models. <br> We use these weights, normalizing them to a PDF, to create a weighted average on the models."
   ]
  },
  {
   "cell_type": "code",
   "execution_count": 82,
   "metadata": {
    "colab": {},
    "colab_type": "code",
    "id": "IAEDUQf_F9An"
   },
   "outputs": [],
   "source": [
    "test_pred=pd.DataFrame()\n",
    "for key in trainers:\n",
    "  y=trainers[key].predict(X_cross)\n",
    "  test_pred[key]=y\n",
    "\n",
    "reg = linear_model.ElasticNet(alpha=1).fit(test_pred, y_cross)\n",
    "coef_list=list(reg.coef_)\n",
    "sum_coef=sum(list(reg.coef_))\n",
    "\n",
    "normalized_coefs=[x/sum_coef for x in coef_list]"
   ]
  },
  {
   "cell_type": "markdown",
   "metadata": {
    "colab_type": "text",
    "id": "_Nzk4MxTWR0o"
   },
   "source": [
    "## 7 Model Evaluation"
   ]
  },
  {
   "cell_type": "markdown",
   "metadata": {
    "colab_type": "text",
    "id": "XTiZUwrOCz7i"
   },
   "source": [
    "### 7.1 Evaluating final model on test"
   ]
  },
  {
   "cell_type": "markdown",
   "metadata": {},
   "source": [
    "After calculating the normalized coefficents for each of the models, we create a final model where the prediction is the weighted average based on these coefficients. <br>Our model is run on the <b>test</b> data to achieve our final results:"
   ]
  },
  {
   "cell_type": "code",
   "execution_count": 83,
   "metadata": {
    "colab": {
     "base_uri": "https://localhost:8080/",
     "height": 283
    },
    "colab_type": "code",
    "id": "PBtSZhX2CnQm",
    "outputId": "89e03053-5813-45d6-b9bb-7021c8ef1890"
   },
   "outputs": [
    {
     "name": "stdout",
     "output_type": "stream",
     "text": [
      "Coeffiecents for each of the models:\n",
      "\n",
      "Linear_Regression_Predictor 0.14860289059615597\n",
      "RF_Regression_Predictor 0.10209855040698115\n",
      "SVR_Regression_Predictor 0.0\n",
      "EN_Regression_Predictor 0.06350801857579516\n",
      "KNN_Regression_Predictor 0.0\n",
      "MLP_Regression_Predictor 0.12685128971582568\n",
      "Ridge_Regression_Predictor 0.18335820889042295\n",
      "CatBoost 0.0\n",
      "XGBoost 0.3755810418148191\n",
      "LightGBM 0.0\n",
      "\n",
      "The R^2 coeffienct 0.6893171938050073\n",
      "RMSE result 0.5939571149834152\n"
     ]
    }
   ],
   "source": [
    "final_pred=pd.DataFrame()\n",
    "print(\"Coeffiecents for each of the models:\\n\")\n",
    "for key,coef in zip(trainers,normalized_coefs):\n",
    "  print(key,coef)\n",
    "  y=trainers[key].predict(X_val)\n",
    "  final_pred[key]=coef*y\n",
    "\n",
    "weighted_sum=final_pred.sum(axis=1)\n",
    "\n",
    "print()\n",
    "reg_score=metrics.r2_score(y_val,weighted_sum)\n",
    "mse=metrics.mean_squared_error(y_val,weighted_sum)\n",
    "print(\"The R^2 coeffienct {}\".format(reg_score))\n",
    "print(\"RMSE result {}\".format(mse**0.5))"
   ]
  },
  {
   "cell_type": "markdown",
   "metadata": {
    "colab_type": "text",
    "id": "cKKalqw_WuQu"
   },
   "source": [
    "### 7.2 Model Performance Graph"
   ]
  },
  {
   "cell_type": "markdown",
   "metadata": {},
   "source": [
    "We return the budget and revenue to their original values (undoing the logarthmic scaling), and display our model results on the test data."
   ]
  },
  {
   "cell_type": "code",
   "execution_count": 84,
   "metadata": {
    "colab": {
     "base_uri": "https://localhost:8080/",
     "height": 700
    },
    "colab_type": "code",
    "id": "8jvs3v8vF9Aq",
    "outputId": "f5368908-c5e8-44c1-97bf-4952cbd51590"
   },
   "outputs": [
    {
     "name": "stdout",
     "output_type": "stream",
     "text": [
      "Results graph sorted by revenue of the test data\n",
      "(the red curve describes our prediction, the blue dots the budget, and the black dots the actual revenue)\n"
     ]
    },
    {
     "data": {
      "image/png": "[encoded data removed]",
      "text/plain": [
       "<Figure size 864x864 with 1 Axes>"
      ]
     },
     "metadata": {},
     "output_type": "display_data"
    }
   ],
   "source": [
    "y_val_scaled=10**y_val.reset_index(drop=True).copy()\n",
    "budget_scaled=10**X_val.budget_InfAdj.reset_index(drop=True).copy()\n",
    "average_scaled=10**weighted_sum.copy()\n",
    "\n",
    "index=np.argsort(y_val_scaled)\n",
    "\n",
    "plt.figure(figsize=(12,12))\n",
    "plt.scatter(np.arange(len(y_val_scaled[index])), y_val_scaled[index], c='k', label='revenue')\n",
    "plt.scatter(np.arange(len(budget_scaled[index])), budget_scaled[index], c='b', label='budget')\n",
    "plt.plot(np.arange(len(average_scaled[index])), average_scaled[index], c='r',label='prediction')\n",
    "plt.legend()\n",
    "plt.yscale(\"log\")\n",
    "\n",
    "print(\"Results graph sorted by revenue of the test data\")\n",
    "print(\"(the red curve describes our prediction, the blue dots the budget, and the black dots the actual revenue)\")\n",
    "plt.show()"
   ]
  }
 ],
 "metadata": {
  "colab": {
   "collapsed_sections": [],
   "name": "DataScienceWorkshopMovies.ipynb",
   "provenance": [],
   "toc_visible": true,
   "version": "0.3.2"
  },
  "kernelspec": {
   "display_name": "Python 3",
   "language": "python",
   "name": "python3"
  },
  "language_info": {
   "codemirror_mode": {
    "name": "ipython",
    "version": 3
   },
   "file_extension": ".py",
   "mimetype": "text/x-python",
   "name": "python",
   "nbconvert_exporter": "python",
   "pygments_lexer": "ipython3",
   "version": "3.6.5"
  }
 },
 "nbformat": 4,
 "nbformat_minor": 1
}
